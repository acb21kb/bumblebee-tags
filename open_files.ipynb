{
 "cells": [
  {
   "cell_type": "code",
   "execution_count": 28,
   "metadata": {},
   "outputs": [],
   "source": [
    "import numpy as np\n",
    "import pandas as pd\n",
    "import json\n",
    "import matplotlib.pyplot as plt\n",
    "import matplotlib.patches as patches\n",
    "%matplotlib inline\n",
    "\n",
    "from sklearn.model_selection import train_test_split\n",
    "from sklearn.naive_bayes import GaussianNB\n",
    "from sklearn import svm\n",
    "from sklearn.neural_network import MLPClassifier"
   ]
  },
  {
   "cell_type": "code",
   "execution_count": 29,
   "metadata": {},
   "outputs": [],
   "source": [
    "# Class to store each tag coordinate data\n",
    "class tagClass:\n",
    "    def __init__(self, data: dict, tClass):\n",
    "        self.x = data.get(\"x\")\n",
    "        self.y = data.get(\"y\")\n",
    "        self.fn = data.get(\"fn\").removeprefix(\"40data/\")\n",
    "        self.label = data.get(\"label\")\n",
    "        self.tagX, self.tagX2, self.tagY, self.tagY2 = self.getSnip()\n",
    "        self.tagClass = tClass\n",
    "    \n",
    "    def getX(self):\n",
    "        return self.x\n",
    "    def getY(self):\n",
    "        return self.y\n",
    "    def getTagXY(self):\n",
    "        return (self.tagX, self.tagY)\n",
    "    def getTagXY2(self):\n",
    "        return (self.tagX2, self.tagY2)\n",
    "    def getFn(self):\n",
    "        return self.fn\n",
    "    def getLabel(self):\n",
    "        return self.label\n",
    "    def getFileClass(self):\n",
    "        return tagClass\n",
    "    \n",
    "    def getSnip(self):\n",
    "        newX = self.x-10\n",
    "        if newX%2 != 0:\n",
    "            newX -= 1\n",
    "        newY = self.y-10\n",
    "        if newY%2 != 0:\n",
    "            newY -= 1\n",
    "        return newX, newX+20, newY, newY+20\n",
    "    \n",
    "    def getTagCoords(self):\n",
    "        return self.tagX, self.tagX2, self.tagY, self.tagY2"
   ]
  },
  {
   "cell_type": "code",
   "execution_count": 30,
   "metadata": {},
   "outputs": [],
   "source": [
    "raw15 = json.load(open(\"leon_bee_photos_3rdMarch2023/bee_track40_15m.json\"))"
   ]
  },
  {
   "cell_type": "code",
   "execution_count": 31,
   "metadata": {},
   "outputs": [],
   "source": [
    "def getTags(rawData, nType):\n",
    "    listData = []\n",
    "    for n in nType:\n",
    "        for i in rawData[n]:\n",
    "            i = dict(i)\n",
    "            d = tagClass(i, n)\n",
    "            listData.append(d)\n",
    "    return listData"
   ]
  },
  {
   "cell_type": "code",
   "execution_count": 32,
   "metadata": {},
   "outputs": [],
   "source": [
    "trainTags = getTags(raw15['0'], ['649', '655', '657', '659', '661'])\n",
    "testTags = getTags(raw15['0'], ['669', '671'])"
   ]
  },
  {
   "cell_type": "code",
   "execution_count": 33,
   "metadata": {},
   "outputs": [],
   "source": [
    "bayerFilter = [[\"R\", \"G\"],\n",
    "               [\"G\", \"B\"]]"
   ]
  },
  {
   "cell_type": "code",
   "execution_count": 34,
   "metadata": {},
   "outputs": [],
   "source": [
    "# Find Bayer filter pixel colour for given coordinate\n",
    "def getBayer(x, y):\n",
    "    if x%2 == 0:\n",
    "        if y%2 == 0:\n",
    "            return \"R\" #RGGB\n",
    "        else:\n",
    "            return \"G\" #GBRG\n",
    "    else:\n",
    "        if y%2 == 0:\n",
    "            return \"G\" #GRBG\n",
    "        else:\n",
    "            return \"B\" #BGGR"
   ]
  },
  {
   "cell_type": "code",
   "execution_count": 35,
   "metadata": {},
   "outputs": [],
   "source": [
    "def getTags(l):\n",
    "    for i in range(20):\n",
    "        # tagX, tagX2, tagY, tagY2 =\n",
    "        print(l[i].getTagCoords())\n",
    "    # photo[tagX:tagX2][tagY:tagY2]"
   ]
  },
  {
   "cell_type": "code",
   "execution_count": 36,
   "metadata": {},
   "outputs": [],
   "source": [
    "def getSnipPlot(tag):\n",
    "    tagX, tagX2, tagY, tagY2 = tag.getTagCoords()\n",
    "    filename = \"leon_bee_photos_3rdMarch2023/cam5/\"+tag.getFn()\n",
    "    file = np.load(filename, allow_pickle=True)\n",
    "    photo = file['img']\n",
    "    # plt.imshow(photo[tagY:tagY2,tagX:tagX2],cmap='gray')\n",
    "    # plt.colorbar()\n",
    "    # rect = patches.Rectangle((tag.getY()-tagY-3.5, tag.getX()-tagX-3.5), 7, 7, linewidth=1, edgecolor='r', facecolor='none')\n",
    "    # plt.gca().add_patch(rect)\n",
    "    # plt.show()\n",
    "    return (tag.getY()-tagY, tag.getX()-tagX), photo"
   ]
  },
  {
   "cell_type": "code",
   "execution_count": 37,
   "metadata": {},
   "outputs": [],
   "source": [
    "def getPixels(startY, startX, tag: tagClass, photo):\n",
    "    sx, sy = tag.getTagXY()\n",
    "    ex, ey = tag.getTagXY2()\n",
    "    colourPixels = [[], [], []] # R G B\n",
    "    for px in range(8):\n",
    "        x = sx + startX + px\n",
    "        for py in range(8):\n",
    "            y = sy + startY + py\n",
    "            col = getBayer(y, x)\n",
    "            if col == 'R':\n",
    "                colourPixels[0].append(photo[y, x])\n",
    "            elif col == 'G':\n",
    "                colourPixels[1].append(photo[y, x])\n",
    "            else:\n",
    "                colourPixels[2].append(photo[y, x])\n",
    "    totalSum = sum(colourPixels[0]) + sum(colourPixels[1]) + sum(colourPixels[2])\n",
    "    return sum(colourPixels[0])/totalSum, sum(colourPixels[1])/totalSum, sum(colourPixels[2])/totalSum"
   ]
  },
  {
   "cell_type": "code",
   "execution_count": null,
   "metadata": {},
   "outputs": [],
   "source": [
    "xTags = pd.DataFrame(columns=[\"Label\", \"Red\", \"Green\", \"Blue\"])\n",
    "for tag in trainTags:\n",
    "    search, photo = getSnipPlot(tag)\n",
    "    redVal, greenVal, blueVal = getPixels(search[0], search[1], tag, photo)\n",
    "    xTags.loc[len(xTags.index)] = [int(tag.getLabel().removeprefix(\"gridTag\")), redVal, greenVal, blueVal]\n",
    "\n",
    "xTrain, xTest, yTrain, yTest = train_test_split(xTags[[\"Red\", \"Green\", \"Blue\"]], xTags[\"Label\"], test_size=0.2)"
   ]
  },
  {
   "cell_type": "code",
   "execution_count": 39,
   "metadata": {},
   "outputs": [],
   "source": [
    "yTags = pd.DataFrame(columns=[\"Label\", \"Red\", \"Green\", \"Blue\"])\n",
    "for tag in testTags:\n",
    "    search, photo = getSnipPlot(tag)\n",
    "    redVal, greenVal, blueVal = getPixels(search[0], search[1], tag, photo)\n",
    "    yTags.loc[len(yTags.index)] = [int(tag.getLabel().removeprefix(\"gridTag\")), redVal, greenVal, blueVal]"
   ]
  },
  {
   "cell_type": "code",
   "execution_count": 76,
   "metadata": {},
   "outputs": [
    {
     "data": {
      "text/plain": [
       "[[[0.40564263322884014, 0.45579937304075235, 0.13855799373040753]],\n",
       " [[0.36176470588235293, 0.4551470588235294, 0.18308823529411763]],\n",
       " [[0.4246658566221142, 0.43863912515188336, 0.13669501822600244]],\n",
       " [[0.33904761904761904, 0.4946031746031746, 0.16634920634920636]],\n",
       " [[0.3383600377002828, 0.5004712535344015, 0.16116870876531575]]]"
      ]
     },
     "execution_count": 76,
     "metadata": {},
     "output_type": "execute_result"
    }
   ],
   "source": [
    "only1 = xTags.loc[xTags[\"Label\"] == 1]\n",
    "asTuples = [[[x.iloc[1], x.iloc[2], x.iloc[3]]] for index, x in only1.iterrows()]\n",
    "asTuples"
   ]
  },
  {
   "cell_type": "code",
   "execution_count": 77,
   "metadata": {},
   "outputs": [
    {
     "name": "stderr",
     "output_type": "stream",
     "text": [
      "c:\\Users\\katie\\AppData\\Local\\Programs\\Python\\Python311\\Lib\\site-packages\\ternary\\plotting.py:148: UserWarning: No data for colormapping provided via 'c'. Parameters 'vmin', 'vmax' will be ignored\n",
      "  ax.scatter(xs, ys, vmin=vmin, vmax=vmax, **kwargs)\n"
     ]
    },
    {
     "ename": "IndexError",
     "evalue": "list index out of range",
     "output_type": "error",
     "traceback": [
      "\u001b[1;31m---------------------------------------------------------------------------\u001b[0m",
      "\u001b[1;31mIndexError\u001b[0m                                Traceback (most recent call last)",
      "Cell \u001b[1;32mIn[77], line 26\u001b[0m\n\u001b[0;32m     23\u001b[0m tax\u001b[38;5;241m.\u001b[39mscatter(np\u001b[38;5;241m.\u001b[39marray([[\u001b[38;5;241m0\u001b[39m,\u001b[38;5;241m0.99\u001b[39m,\u001b[38;5;241m0\u001b[39m]])\u001b[38;5;241m*\u001b[39mscale,marker\u001b[38;5;241m=\u001b[39m\u001b[38;5;124m'\u001b[39m\u001b[38;5;124mD\u001b[39m\u001b[38;5;124m'\u001b[39m, color\u001b[38;5;241m=\u001b[39m\u001b[38;5;124m'\u001b[39m\u001b[38;5;124mgreen\u001b[39m\u001b[38;5;124m'\u001b[39m,zorder\u001b[38;5;241m=\u001b[39m\u001b[38;5;241m3\u001b[39m)\n\u001b[0;32m     24\u001b[0m tax\u001b[38;5;241m.\u001b[39mscatter(np\u001b[38;5;241m.\u001b[39marray([[\u001b[38;5;241m0\u001b[39m,\u001b[38;5;241m0\u001b[39m,\u001b[38;5;241m0.99\u001b[39m]])\u001b[38;5;241m*\u001b[39mscale,marker\u001b[38;5;241m=\u001b[39m\u001b[38;5;124m'\u001b[39m\u001b[38;5;124mD\u001b[39m\u001b[38;5;124m'\u001b[39m, color\u001b[38;5;241m=\u001b[39m\u001b[38;5;124m'\u001b[39m\u001b[38;5;124mred\u001b[39m\u001b[38;5;124m'\u001b[39m,zorder\u001b[38;5;241m=\u001b[39m\u001b[38;5;241m3\u001b[39m)\n\u001b[1;32m---> 26\u001b[0m \u001b[43mtax\u001b[49m\u001b[38;5;241;43m.\u001b[39;49m\u001b[43mscatter\u001b[49m\u001b[43m(\u001b[49m\u001b[43masTuples\u001b[49m\u001b[38;5;241;43m*\u001b[39;49m\u001b[43mscale\u001b[49m\u001b[43m,\u001b[49m\u001b[43mmarker\u001b[49m\u001b[38;5;241;43m=\u001b[39;49m\u001b[38;5;124;43m'\u001b[39;49m\u001b[38;5;124;43mx\u001b[39;49m\u001b[38;5;124;43m'\u001b[39;49m\u001b[43m,\u001b[49m\u001b[43m \u001b[49m\u001b[43mcolor\u001b[49m\u001b[38;5;241;43m=\u001b[39;49m\u001b[38;5;124;43m'\u001b[39;49m\u001b[38;5;124;43m#fff\u001b[39;49m\u001b[38;5;124;43m'\u001b[39;49m\u001b[43m,\u001b[49m\u001b[43m \u001b[49m\u001b[43mlabel\u001b[49m\u001b[38;5;241;43m=\u001b[39;49m\u001b[38;5;124;43m\"\u001b[39;49m\u001b[38;5;124;43mGreen Diamonds\u001b[39;49m\u001b[38;5;124;43m\"\u001b[39;49m\u001b[43m,\u001b[49m\u001b[43mzorder\u001b[49m\u001b[38;5;241;43m=\u001b[39;49m\u001b[38;5;241;43m3\u001b[39;49m\u001b[43m)\u001b[49m\u001b[38;5;66;03m#np.array(expected['002']))\u001b[39;00m\n\u001b[0;32m     27\u001b[0m tax\u001b[38;5;241m.\u001b[39m_redraw_labels()\n\u001b[0;32m     28\u001b[0m tax\u001b[38;5;241m.\u001b[39mheatmap(data, style\u001b[38;5;241m=\u001b[39m\u001b[38;5;124m\"\u001b[39m\u001b[38;5;124mhexagonal\u001b[39m\u001b[38;5;124m\"\u001b[39m, use_rgba\u001b[38;5;241m=\u001b[39m\u001b[38;5;28;01mTrue\u001b[39;00m, colorbar\u001b[38;5;241m=\u001b[39m\u001b[38;5;28;01mFalse\u001b[39;00m)\n",
      "File \u001b[1;32mc:\\Users\\katie\\AppData\\Local\\Programs\\Python\\Python311\\Lib\\site-packages\\ternary\\ternary_axes_subplot.py:421\u001b[0m, in \u001b[0;36mTernaryAxesSubplot.scatter\u001b[1;34m(self, points, **kwargs)\u001b[0m\n\u001b[0;32m    419\u001b[0m ax \u001b[38;5;241m=\u001b[39m \u001b[38;5;28mself\u001b[39m\u001b[38;5;241m.\u001b[39mget_axes()\n\u001b[0;32m    420\u001b[0m permutation \u001b[38;5;241m=\u001b[39m \u001b[38;5;28mself\u001b[39m\u001b[38;5;241m.\u001b[39m_permutation\n\u001b[1;32m--> 421\u001b[0m plot_ \u001b[38;5;241m=\u001b[39m \u001b[43mplotting\u001b[49m\u001b[38;5;241;43m.\u001b[39;49m\u001b[43mscatter\u001b[49m\u001b[43m(\u001b[49m\u001b[43mpoints\u001b[49m\u001b[43m,\u001b[49m\u001b[43m \u001b[49m\u001b[43max\u001b[49m\u001b[38;5;241;43m=\u001b[39;49m\u001b[43max\u001b[49m\u001b[43m,\u001b[49m\u001b[43m \u001b[49m\u001b[43mpermutation\u001b[49m\u001b[38;5;241;43m=\u001b[39;49m\u001b[43mpermutation\u001b[49m\u001b[43m,\u001b[49m\n\u001b[0;32m    422\u001b[0m \u001b[43m                         \u001b[49m\u001b[38;5;241;43m*\u001b[39;49m\u001b[38;5;241;43m*\u001b[39;49m\u001b[43mkwargs\u001b[49m\u001b[43m)\u001b[49m\n\u001b[0;32m    423\u001b[0m \u001b[38;5;28;01mreturn\u001b[39;00m plot_\n",
      "File \u001b[1;32mc:\\Users\\katie\\AppData\\Local\\Programs\\Python\\Python311\\Lib\\site-packages\\ternary\\plotting.py:147\u001b[0m, in \u001b[0;36mscatter\u001b[1;34m(points, ax, permutation, colorbar, colormap, vmin, vmax, scientific, cbarlabel, cb_kwargs, **kwargs)\u001b[0m\n\u001b[0;32m    145\u001b[0m \u001b[38;5;28;01mif\u001b[39;00m \u001b[38;5;129;01mnot\u001b[39;00m ax:\n\u001b[0;32m    146\u001b[0m     fig, ax \u001b[38;5;241m=\u001b[39m plt\u001b[38;5;241m.\u001b[39msubplots()\n\u001b[1;32m--> 147\u001b[0m xs, ys \u001b[38;5;241m=\u001b[39m \u001b[43mproject_sequence\u001b[49m\u001b[43m(\u001b[49m\u001b[43mpoints\u001b[49m\u001b[43m,\u001b[49m\u001b[43m \u001b[49m\u001b[43mpermutation\u001b[49m\u001b[38;5;241;43m=\u001b[39;49m\u001b[43mpermutation\u001b[49m\u001b[43m)\u001b[49m\n\u001b[0;32m    148\u001b[0m ax\u001b[38;5;241m.\u001b[39mscatter(xs, ys, vmin\u001b[38;5;241m=\u001b[39mvmin, vmax\u001b[38;5;241m=\u001b[39mvmax, \u001b[38;5;241m*\u001b[39m\u001b[38;5;241m*\u001b[39mkwargs)\n\u001b[0;32m    150\u001b[0m \u001b[38;5;28;01mif\u001b[39;00m colorbar \u001b[38;5;129;01mand\u001b[39;00m (colormap \u001b[38;5;241m!=\u001b[39m \u001b[38;5;28;01mNone\u001b[39;00m):\n",
      "File \u001b[1;32mc:\\Users\\katie\\AppData\\Local\\Programs\\Python\\Python311\\Lib\\site-packages\\ternary\\helpers.py:142\u001b[0m, in \u001b[0;36mproject_sequence\u001b[1;34m(s, permutation)\u001b[0m\n\u001b[0;32m    127\u001b[0m \u001b[38;5;28;01mdef\u001b[39;00m \u001b[38;5;21mproject_sequence\u001b[39m(s, permutation\u001b[38;5;241m=\u001b[39m\u001b[38;5;28;01mNone\u001b[39;00m):\n\u001b[0;32m    128\u001b[0m \u001b[38;5;250m    \u001b[39m\u001b[38;5;124;03m\"\"\"\u001b[39;00m\n\u001b[0;32m    129\u001b[0m \u001b[38;5;124;03m    Projects a point or sequence of points using `project_point` to lists xs, ys\u001b[39;00m\n\u001b[0;32m    130\u001b[0m \u001b[38;5;124;03m    for plotting with Matplotlib.\u001b[39;00m\n\u001b[1;32m   (...)\u001b[0m\n\u001b[0;32m    139\u001b[0m \u001b[38;5;124;03m    xs, ys: The sequence of projected points in coordinates as two lists \u001b[39;00m\n\u001b[0;32m    140\u001b[0m \u001b[38;5;124;03m    \"\"\"\u001b[39;00m\n\u001b[1;32m--> 142\u001b[0m     xs, ys \u001b[38;5;241m=\u001b[39m unzip(\u001b[43m[\u001b[49m\u001b[43mproject_point\u001b[49m\u001b[43m(\u001b[49m\u001b[43mp\u001b[49m\u001b[43m,\u001b[49m\u001b[43m \u001b[49m\u001b[43mpermutation\u001b[49m\u001b[38;5;241;43m=\u001b[39;49m\u001b[43mpermutation\u001b[49m\u001b[43m)\u001b[49m\u001b[43m \u001b[49m\u001b[38;5;28;43;01mfor\u001b[39;49;00m\u001b[43m \u001b[49m\u001b[43mp\u001b[49m\u001b[43m \u001b[49m\u001b[38;5;129;43;01min\u001b[39;49;00m\u001b[43m \u001b[49m\u001b[43ms\u001b[49m\u001b[43m]\u001b[49m)\n\u001b[0;32m    143\u001b[0m     \u001b[38;5;28;01mreturn\u001b[39;00m xs, ys\n",
      "File \u001b[1;32mc:\\Users\\katie\\AppData\\Local\\Programs\\Python\\Python311\\Lib\\site-packages\\ternary\\helpers.py:142\u001b[0m, in \u001b[0;36m<listcomp>\u001b[1;34m(.0)\u001b[0m\n\u001b[0;32m    127\u001b[0m \u001b[38;5;28;01mdef\u001b[39;00m \u001b[38;5;21mproject_sequence\u001b[39m(s, permutation\u001b[38;5;241m=\u001b[39m\u001b[38;5;28;01mNone\u001b[39;00m):\n\u001b[0;32m    128\u001b[0m \u001b[38;5;250m    \u001b[39m\u001b[38;5;124;03m\"\"\"\u001b[39;00m\n\u001b[0;32m    129\u001b[0m \u001b[38;5;124;03m    Projects a point or sequence of points using `project_point` to lists xs, ys\u001b[39;00m\n\u001b[0;32m    130\u001b[0m \u001b[38;5;124;03m    for plotting with Matplotlib.\u001b[39;00m\n\u001b[1;32m   (...)\u001b[0m\n\u001b[0;32m    139\u001b[0m \u001b[38;5;124;03m    xs, ys: The sequence of projected points in coordinates as two lists \u001b[39;00m\n\u001b[0;32m    140\u001b[0m \u001b[38;5;124;03m    \"\"\"\u001b[39;00m\n\u001b[1;32m--> 142\u001b[0m     xs, ys \u001b[38;5;241m=\u001b[39m unzip([\u001b[43mproject_point\u001b[49m\u001b[43m(\u001b[49m\u001b[43mp\u001b[49m\u001b[43m,\u001b[49m\u001b[43m \u001b[49m\u001b[43mpermutation\u001b[49m\u001b[38;5;241;43m=\u001b[39;49m\u001b[43mpermutation\u001b[49m\u001b[43m)\u001b[49m \u001b[38;5;28;01mfor\u001b[39;00m p \u001b[38;5;129;01min\u001b[39;00m s])\n\u001b[0;32m    143\u001b[0m     \u001b[38;5;28;01mreturn\u001b[39;00m xs, ys\n",
      "File \u001b[1;32mc:\\Users\\katie\\AppData\\Local\\Programs\\Python\\Python311\\Lib\\site-packages\\ternary\\helpers.py:100\u001b[0m, in \u001b[0;36mproject_point\u001b[1;34m(p, permutation)\u001b[0m\n\u001b[0;32m     98\u001b[0m permuted \u001b[38;5;241m=\u001b[39m permute_point(p, permutation\u001b[38;5;241m=\u001b[39mpermutation)\n\u001b[0;32m     99\u001b[0m a \u001b[38;5;241m=\u001b[39m permuted[\u001b[38;5;241m0\u001b[39m]\n\u001b[1;32m--> 100\u001b[0m b \u001b[38;5;241m=\u001b[39m \u001b[43mpermuted\u001b[49m\u001b[43m[\u001b[49m\u001b[38;5;241;43m1\u001b[39;49m\u001b[43m]\u001b[49m\n\u001b[0;32m    101\u001b[0m x \u001b[38;5;241m=\u001b[39m a \u001b[38;5;241m+\u001b[39m b\u001b[38;5;241m/\u001b[39m\u001b[38;5;241m2.\u001b[39m\n\u001b[0;32m    102\u001b[0m y \u001b[38;5;241m=\u001b[39m SQRT3OVER2 \u001b[38;5;241m*\u001b[39m b\n",
      "\u001b[1;31mIndexError\u001b[0m: list index out of range"
     ]
    },
    {
     "data": {
      "image/png": "[encoded data removed]",
      "text/plain": [
       "<Figure size 1200x1000 with 1 Axes>"
      ]
     },
     "metadata": {},
     "output_type": "display_data"
    }
   ],
   "source": [
    "import ternary\n",
    "def color_point(x, y, z, scale):\n",
    "    b = x/scale\n",
    "    g = y/scale\n",
    "    r = z/scale\n",
    "    return (r, g, b, 1.)\n",
    "\n",
    "def generate_heatmap_data(scale=5):\n",
    "    from ternary.helpers import simplex_iterator\n",
    "    d = dict()\n",
    "    for (i, j, k) in simplex_iterator(scale):\n",
    "        d[(i, j, k)] = color_point(i, j, k, scale)\n",
    "    return d\n",
    "\n",
    "scale = 30\n",
    "data = generate_heatmap_data(scale)\n",
    "plt.figure(figsize=[12,10])\n",
    "ax = plt.gca()\n",
    "figure, tax = ternary.figure(ax,scale=scale)\n",
    "\n",
    "\n",
    "tax.scatter(np.array([[0.99,0,0]])*scale,marker='D', color='blue',zorder=3)\n",
    "tax.scatter(np.array([[0,0.99,0]])*scale,marker='D', color='green',zorder=3)\n",
    "tax.scatter(np.array([[0,0,0.99]])*scale,marker='D', color='red',zorder=3)\n",
    "\n",
    "tax.scatter(asTuples*scale,marker='x', color='#fff', label=\"Green Diamonds\",zorder=3)#np.array(expected['002']))\n",
    "tax._redraw_labels()\n",
    "tax.heatmap(data, style=\"hexagonal\", use_rgba=True, colorbar=False)\n",
    "tax._redraw_labels()\n",
    "# Remove default Matplotlib Axes\n",
    "tax.clear_matplotlib_ticks()\n",
    "tax.get_axes().axis('off')\n",
    "tax.boundary()\n",
    "tax.set_title(\"RGBA Heatmap\")\n"
   ]
  },
  {
   "cell_type": "code",
   "execution_count": null,
   "metadata": {},
   "outputs": [],
   "source": [
    "gnb = GaussianNB().fit(xTrain, yTrain)\n",
    "gnbPred = gnb.predict(yTags[[\"Red\", \"Green\"]])"
   ]
  },
  {
   "cell_type": "code",
   "execution_count": null,
   "metadata": {},
   "outputs": [],
   "source": [
    "clf = svm.SVC().fit(xTrain, yTrain)\n",
    "svmPred = clf.predict(yTags[[\"Red\", \"Green\"]])"
   ]
  },
  {
   "cell_type": "code",
   "execution_count": null,
   "metadata": {},
   "outputs": [],
   "source": []
  },
  {
   "cell_type": "code",
   "execution_count": null,
   "metadata": {},
   "outputs": [],
   "source": [
    "# mlp = MLPClassifier(solver='lbfgs', hidden_layer_sizes=(5, 2), random_state=1).fit(xTrain, yTrain)\n",
    "# mlpPred = mlp.predict(yTags[[\"Red\", \"Green\"]])"
   ]
  },
  {
   "cell_type": "code",
   "execution_count": null,
   "metadata": {},
   "outputs": [],
   "source": [
    "from sklearn.metrics import accuracy_score, f1_score, precision_score, recall_score, mean_squared_error\n",
    "def scores(modelPred, name):\n",
    "    print(name)\n",
    "    print(\"Accuracy: \", accuracy_score(yTags[\"Label\"], modelPred))\n",
    "    print(\"F1: \", f1_score(yTags[\"Label\"], modelPred, average='macro'))\n",
    "    print(\"Precision: \", precision_score(yTags[\"Label\"], modelPred, average='macro', zero_division=np.nan))\n",
    "    print(\"Recall: \", recall_score(yTags[\"Label\"], modelPred, average='macro'))\n",
    "    print(\"MSE: \", mean_squared_error(yTags[\"Label\"], modelPred), \"\\n\")"
   ]
  },
  {
   "cell_type": "code",
   "execution_count": null,
   "metadata": {},
   "outputs": [],
   "source": [
    "# scores(gnbPred, \"GNB\")\n",
    "# scores(svmPred, \"SVM\")\n",
    "# scores(mlpPred, \"MLP\")"
   ]
  },
  {
   "cell_type": "code",
   "execution_count": null,
   "metadata": {},
   "outputs": [],
   "source": [
    "# average colours from all images - normalise\n",
    "# R/(R+G+B) G/(R+G+B)\n",
    "# train model on colours & labels\n",
    "# test model to classfiy other image labels\n",
    "\n",
    "# maybe remove background mesh\n",
    "# func pixel coords generated to show brightness\n",
    "# psf tagxy brightness pf col, bg of col, pixel ->> pred cixel col -> SSE\n",
    "# brightness for each col -> then loop all pixels then predict pixels -> SSE = func - true picel val"
   ]
  }
 ],
 "metadata": {
  "kernelspec": {
   "display_name": "Python 3",
   "language": "python",
   "name": "python3"
  },
  "language_info": {
   "codemirror_mode": {
    "name": "ipython",
    "version": 3
   },
   "file_extension": ".py",
   "mimetype": "text/x-python",
   "name": "python",
   "nbconvert_exporter": "python",
   "pygments_lexer": "ipython3",
   "version": "3.11.9"
  }
 },
 "nbformat": 4,
 "nbformat_minor": 2
}
