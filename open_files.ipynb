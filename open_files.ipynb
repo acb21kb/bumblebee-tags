{
 "cells": [
  {
   "cell_type": "code",
   "execution_count": 15,
   "metadata": {},
   "outputs": [],
   "source": [
    "import numpy as np\n",
    "import pandas as pd\n",
    "import json\n",
    "import matplotlib.pyplot as plt\n",
    "import matplotlib.patches as patches\n",
    "%matplotlib inline\n",
    "\n",
    "from sklearn.model_selection import train_test_split\n",
    "from sklearn.naive_bayes import GaussianNB\n",
    "from sklearn import svm\n",
    "from sklearn.neural_network import MLPClassifier"
   ]
  },
  {
   "cell_type": "code",
   "execution_count": 16,
   "metadata": {},
   "outputs": [],
   "source": [
    "# Class to store each tag coordinate data\n",
    "class tagClass:\n",
    "    def __init__(self, data: dict, tClass):\n",
    "        self.x = data.get(\"x\")\n",
    "        self.y = data.get(\"y\")\n",
    "        self.fn = data.get(\"fn\").removeprefix(\"40data/\")\n",
    "        self.label = data.get(\"label\")\n",
    "        self.tagX, self.tagX2, self.tagY, self.tagY2 = self.getSnip()\n",
    "        self.tagClass = tClass\n",
    "    \n",
    "    def getX(self):\n",
    "        return self.x\n",
    "    def getY(self):\n",
    "        return self.y\n",
    "    def getTagXY(self):\n",
    "        return (self.tagX, self.tagY)\n",
    "    def getTagXY2(self):\n",
    "        return (self.tagX2, self.tagY2)\n",
    "    def getFn(self):\n",
    "        return self.fn\n",
    "    def getLabel(self):\n",
    "        return self.label\n",
    "    def getFileClass(self):\n",
    "        return tagClass\n",
    "    \n",
    "    def getSnip(self):\n",
    "        newX = self.x-10\n",
    "        if newX%2 != 0:\n",
    "            newX -= 1\n",
    "        newY = self.y-10\n",
    "        if newY%2 != 0:\n",
    "            newY -= 1\n",
    "        return newX, newX+20, newY, newY+20\n",
    "    \n",
    "    def getTagCoords(self):\n",
    "        return self.tagX, self.tagX2, self.tagY, self.tagY2"
   ]
  },
  {
   "cell_type": "code",
   "execution_count": 17,
   "metadata": {},
   "outputs": [],
   "source": [
    "raw15 = json.load(open(\"leon_bee_photos_3rdMarch2023/bee_track40_15m.json\"))"
   ]
  },
  {
   "cell_type": "code",
   "execution_count": 18,
   "metadata": {},
   "outputs": [],
   "source": [
    "def getTags(rawData, nType):\n",
    "    listData = []\n",
    "    for n in nType:\n",
    "        for i in rawData[n]:\n",
    "            i = dict(i)\n",
    "            d = tagClass(i, n)\n",
    "            listData.append(d)\n",
    "    return listData"
   ]
  },
  {
   "cell_type": "code",
   "execution_count": 19,
   "metadata": {},
   "outputs": [],
   "source": [
    "trainTags = getTags(raw15['0'], ['649', '655', '657', '659', '661'])\n",
    "testTags = getTags(raw15['0'], ['669', '671'])"
   ]
  },
  {
   "cell_type": "code",
   "execution_count": 20,
   "metadata": {},
   "outputs": [],
   "source": [
    "bayerFilter = [[\"R\", \"G\"],\n",
    "               [\"G\", \"B\"]]"
   ]
  },
  {
   "cell_type": "code",
   "execution_count": 21,
   "metadata": {},
   "outputs": [],
   "source": [
    "# Find Bayer filter pixel colour for given coordinate\n",
    "def getBayer(x, y):\n",
    "    if x%2 == 0:\n",
    "        if y%2 == 0:\n",
    "            return \"R\" #RGGB\n",
    "        else:\n",
    "            return \"G\" #GBRG\n",
    "    else:\n",
    "        if y%2 == 0:\n",
    "            return \"G\" #GRBG\n",
    "        else:\n",
    "            return \"B\" #BGGR"
   ]
  },
  {
   "cell_type": "code",
   "execution_count": 22,
   "metadata": {},
   "outputs": [],
   "source": [
    "def getTags(l):\n",
    "    for i in range(20):\n",
    "        # tagX, tagX2, tagY, tagY2 =\n",
    "        print(l[i].getTagCoords())\n",
    "    # photo[tagX:tagX2][tagY:tagY2]"
   ]
  },
  {
   "cell_type": "code",
   "execution_count": 23,
   "metadata": {},
   "outputs": [],
   "source": [
    "def getSnipPlot(tag):\n",
    "    tagX, tagX2, tagY, tagY2 = tag.getTagCoords()\n",
    "    filename = \"leon_bee_photos_3rdMarch2023/cam5/\"+tag.getFn()\n",
    "    file = np.load(filename, allow_pickle=True)\n",
    "    photo = file['img']\n",
    "    # plt.imshow(photo[tagY:tagY2,tagX:tagX2],cmap='gray')\n",
    "    # plt.colorbar()\n",
    "    # rect = patches.Rectangle((tag.getY()-tagY-3.5, tag.getX()-tagX-3.5), 7, 7, linewidth=1, edgecolor='r', facecolor='none')\n",
    "    # plt.gca().add_patch(rect)\n",
    "    # plt.show()\n",
    "    return (tag.getY()-tagY, tag.getX()-tagX), photo"
   ]
  },
  {
   "cell_type": "code",
   "execution_count": 24,
   "metadata": {},
   "outputs": [],
   "source": [
    "def getPixels(startY, startX, tag: tagClass, photo):\n",
    "    sx, sy = tag.getTagXY()\n",
    "    ex, ey = tag.getTagXY2()\n",
    "    colourPixels = [[], [], []] # R G B\n",
    "    for px in range(8):\n",
    "        x = sx + startX + px\n",
    "        for py in range(8):\n",
    "            y = sy + startY + py\n",
    "            col = getBayer(y, x)\n",
    "            if col == 'R':\n",
    "                colourPixels[0].append(photo[y, x])\n",
    "            elif col == 'G':\n",
    "                colourPixels[1].append(photo[y, x])\n",
    "            else:\n",
    "                colourPixels[2].append(photo[y, x])\n",
    "    totalSum = sum(colourPixels[0]) + sum(colourPixels[1]) + sum(colourPixels[2])\n",
    "    return sum(colourPixels[0])/totalSum, sum(colourPixels[1])/totalSum"
   ]
  },
  {
   "cell_type": "code",
   "execution_count": 25,
   "metadata": {},
   "outputs": [],
   "source": [
    "xTags = pd.DataFrame(columns=[\"Label\", \"Red\", \"Green\"])\n",
    "for tag in trainTags:\n",
    "    search, photo = getSnipPlot(tag)\n",
    "    redVal, greenVal = getPixels(search[0], search[1], tag, photo)\n",
    "    xTags.loc[len(xTags.index)] = [int(tag.getLabel().removeprefix(\"gridTag\")), redVal, greenVal]\n",
    "\n",
    "xTrain, xTest, yTrain, yTest = train_test_split(xTags[[\"Red\", \"Green\"]], xTags[\"Label\"], test_size=0.2)"
   ]
  },
  {
   "cell_type": "code",
   "execution_count": 26,
   "metadata": {},
   "outputs": [],
   "source": [
    "yTags = pd.DataFrame(columns=[\"Label\", \"Red\", \"Green\"])\n",
    "for tag in testTags:\n",
    "    search, photo = getSnipPlot(tag)\n",
    "    redVal, greenVal = getPixels(search[0], search[1], tag, photo)\n",
    "    yTags.loc[len(yTags.index)] = [int(tag.getLabel().removeprefix(\"gridTag\")), redVal, greenVal]"
   ]
  },
  {
   "cell_type": "code",
   "execution_count": 27,
   "metadata": {},
   "outputs": [],
   "source": [
    "gnb = GaussianNB().fit(xTrain, yTrain)\n",
    "gnbPred = gnb.predict(yTags[[\"Red\", \"Green\"]])"
   ]
  },
  {
   "cell_type": "code",
   "execution_count": 28,
   "metadata": {},
   "outputs": [],
   "source": [
    "clf = svm.SVC().fit(xTrain, yTrain)\n",
    "svmPred = clf.predict(yTags[[\"Red\", \"Green\"]])"
   ]
  },
  {
   "cell_type": "code",
   "execution_count": null,
   "metadata": {},
   "outputs": [],
   "source": []
  },
  {
   "cell_type": "code",
   "execution_count": 29,
   "metadata": {},
   "outputs": [],
   "source": [
    "# mlp = MLPClassifier(solver='lbfgs', hidden_layer_sizes=(5, 2), random_state=1).fit(xTrain, yTrain)\n",
    "# mlpPred = mlp.predict(yTags[[\"Red\", \"Green\"]])"
   ]
  },
  {
   "cell_type": "code",
   "execution_count": 30,
   "metadata": {},
   "outputs": [],
   "source": [
    "from sklearn.metrics import accuracy_score, f1_score, precision_score, recall_score, mean_squared_error\n",
    "def scores(modelPred, name):\n",
    "    print(name)\n",
    "    print(\"Accuracy: \", accuracy_score(yTags[\"Label\"], modelPred))\n",
    "    print(\"F1: \", f1_score(yTags[\"Label\"], modelPred, average='macro'))\n",
    "    print(\"Precision: \", precision_score(yTags[\"Label\"], modelPred, average='macro', zero_division=np.nan))\n",
    "    print(\"Recall: \", recall_score(yTags[\"Label\"], modelPred, average='macro'))\n",
    "    print(\"MSE: \", mean_squared_error(yTags[\"Label\"], modelPred), \"\\n\")"
   ]
  },
  {
   "cell_type": "code",
   "execution_count": 31,
   "metadata": {},
   "outputs": [
    {
     "name": "stdout",
     "output_type": "stream",
     "text": [
      "GNB\n",
      "Accuracy:  0.2125\n",
      "F1:  0.17331349206349206\n",
      "Precision:  0.25496715927750413\n",
      "Recall:  0.2125\n",
      "MSE:  223.5875 \n",
      "\n",
      "SVM\n",
      "Accuracy:  0.1875\n",
      "F1:  0.12726551226551225\n",
      "Precision:  0.24620811287477956\n",
      "Recall:  0.1875\n",
      "MSE:  298.725 \n",
      "\n"
     ]
    }
   ],
   "source": [
    "scores(gnbPred, \"GNB\")\n",
    "scores(svmPred, \"SVM\")\n",
    "# scores(mlpPred, \"MLP\")"
   ]
  },
  {
   "cell_type": "code",
   "execution_count": 32,
   "metadata": {},
   "outputs": [],
   "source": [
    "# average colours from all images - normalise\n",
    "# R/(R+G+B) G/(R+G+B)\n",
    "# train model on colours & labels\n",
    "# test model to classfiy other image labels\n",
    "\n",
    "# maybe remove background mesh\n",
    "# func pixel coords generated to show brightness\n",
    "# psf tagxy brightness pf col, bg of col, pixel ->> pred cixel col -> SSE\n",
    "# brightness for each col -> then loop all pixels then predict pixels -> SSE = func - true picel val"
   ]
  }
 ],
 "metadata": {
  "kernelspec": {
   "display_name": "Python 3",
   "language": "python",
   "name": "python3"
  },
  "language_info": {
   "codemirror_mode": {
    "name": "ipython",
    "version": 3
   },
   "file_extension": ".py",
   "mimetype": "text/x-python",
   "name": "python",
   "nbconvert_exporter": "python",
   "pygments_lexer": "ipython3",
   "version": "3.11.9"
  }
 },
 "nbformat": 4,
 "nbformat_minor": 2
}
