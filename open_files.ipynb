{
 "cells": [
  {
   "cell_type": "code",
   "execution_count": 10,
   "metadata": {},
   "outputs": [],
   "source": [
    "import numpy as np\n",
    "import pandas as pd\n",
    "import json\n",
    "import matplotlib.pyplot as plt\n",
    "import matplotlib.patches as patches\n",
    "%matplotlib inline\n",
    "\n",
    "from sklearn.model_selection import train_test_split\n",
    "from sklearn.naive_bayes import GaussianNB\n",
    "from sklearn import svm\n",
    "from sklearn.neural_network import MLPClassifier"
   ]
  },
  {
   "cell_type": "code",
   "execution_count": 11,
   "metadata": {},
   "outputs": [],
   "source": [
    "# Class to store each tag coordinate data\n",
    "class tagClass:\n",
    "    def __init__(self, data: dict, tClass):\n",
    "        self.x = data.get(\"x\")\n",
    "        self.y = data.get(\"y\")\n",
    "        self.fn = data.get(\"fn\").removeprefix(\"40data/\")\n",
    "        self.label = data.get(\"label\")\n",
    "        self.tagX, self.tagX2, self.tagY, self.tagY2 = self.getSnip()\n",
    "        self.tagClass = tClass\n",
    "    \n",
    "    def getX(self):\n",
    "        return self.x\n",
    "    def getY(self):\n",
    "        return self.y\n",
    "    def getTagXY(self):\n",
    "        return (self.tagX, self.tagY)\n",
    "    def getTagXY2(self):\n",
    "        return (self.tagX2, self.tagY2)\n",
    "    def getFn(self):\n",
    "        return self.fn\n",
    "    def getLabel(self):\n",
    "        return self.label\n",
    "    def getFileClass(self):\n",
    "        return tagClass\n",
    "    \n",
    "    def getSnip(self):\n",
    "        newX = self.x-10\n",
    "        if newX%2 != 0:\n",
    "            newX -= 1\n",
    "        newY = self.y-10\n",
    "        if newY%2 != 0:\n",
    "            newY -= 1\n",
    "        return newX, newX+20, newY, newY+20\n",
    "    \n",
    "    def getTagCoords(self):\n",
    "        return self.tagX, self.tagX2, self.tagY, self.tagY2"
   ]
  },
  {
   "cell_type": "code",
   "execution_count": 12,
   "metadata": {},
   "outputs": [
    {
     "name": "stdout",
     "output_type": "stream",
     "text": [
      "{'0': {'649': [{'x': 1059, 'y': 764, 'fn': '40data/photo_object_02D53783700_20230303_15_47_57.043872_Newfocus_15m_0649.np', 'label': 'gridTag0'}, {'x': 1074, 'y': 764, 'fn': '40data/photo_object_02D53783700_20230303_15_47_57.043872_Newfocus_15m_0649.np', 'label': 'gridTag1'}, {'x': 1089, 'y': 763, 'fn': '40data/photo_object_02D53783700_20230303_15_47_57.043872_Newfocus_15m_0649.np', 'label': 'gridTag2'}, {'x': 1104, 'y': 763, 'fn': '40data/photo_object_02D53783700_20230303_15_47_57.043872_Newfocus_15m_0649.np', 'label': 'gridTag3'}, {'x': 1119, 'y': 763, 'fn': '40data/photo_object_02D53783700_20230303_15_47_57.043872_Newfocus_15m_0649.np', 'label': 'gridTag4'}, {'x': 1134, 'y': 762, 'fn': '40data/photo_object_02D53783700_20230303_15_47_57.043872_Newfocus_15m_0649.np', 'label': 'gridTag5'}, {'x': 1149, 'y': 762, 'fn': '40data/photo_object_02D53783700_20230303_15_47_57.043872_Newfocus_15m_0649.np', 'label': 'gridTag6'}, {'x': 1059, 'y': 779, 'fn': '40data/photo_object_02D53783700_20230303_15_47_57.043872_Newfocus_15m_0649.np', 'label': 'gridTag7'}, {'x': 1089, 'y': 779, 'fn': '40data/photo_object_02D53783700_20230303_15_47_57.043872_Newfocus_15m_0649.np', 'label': 'gridTag8'}, {'x': 1119, 'y': 778, 'fn': '40data/photo_object_02D53783700_20230303_15_47_57.043872_Newfocus_15m_0649.np', 'label': 'gridTag9'}, {'x': 1149, 'y': 777, 'fn': '40data/photo_object_02D53783700_20230303_15_47_57.043872_Newfocus_15m_0649.np', 'label': 'gridTag10'}, {'x': 1059, 'y': 795, 'fn': '40data/photo_object_02D53783700_20230303_15_47_57.043872_Newfocus_15m_0649.np', 'label': 'gridTag11'}, {'x': 1074, 'y': 794, 'fn': '40data/photo_object_02D53783700_20230303_15_47_57.043872_Newfocus_15m_0649.np', 'label': 'gridTag12'}, {'x': 1089, 'y': 794, 'fn': '40data/photo_object_02D53783700_20230303_15_47_57.043872_Newfocus_15m_0649.np', 'label': 'gridTag13'}, {'x': 1104, 'y': 794, 'fn': '40data/photo_object_02D53783700_20230303_15_47_57.043872_Newfocus_15m_0649.np', 'label': 'gridTag14'}, {'x': 1120, 'y': 793, 'fn': '40data/photo_object_02D53783700_20230303_15_47_57.043872_Newfocus_15m_0649.np', 'label': 'gridTag15'}, {'x': 1135, 'y': 793, 'fn': '40data/photo_object_02D53783700_20230303_15_47_57.043872_Newfocus_15m_0649.np', 'label': 'gridTag16'}, {'x': 1150, 'y': 793, 'fn': '40data/photo_object_02D53783700_20230303_15_47_57.043872_Newfocus_15m_0649.np', 'label': 'gridTag17'}, {'x': 1060, 'y': 810, 'fn': '40data/photo_object_02D53783700_20230303_15_47_57.043872_Newfocus_15m_0649.np', 'label': 'gridTag18'}, {'x': 1090, 'y': 809, 'fn': '40data/photo_object_02D53783700_20230303_15_47_57.043872_Newfocus_15m_0649.np', 'label': 'gridTag19'}, {'x': 1120, 'y': 809, 'fn': '40data/photo_object_02D53783700_20230303_15_47_57.043872_Newfocus_15m_0649.np', 'label': 'gridTag20'}, {'x': 1150, 'y': 808, 'fn': '40data/photo_object_02D53783700_20230303_15_47_57.043872_Newfocus_15m_0649.np', 'label': 'gridTag21'}, {'x': 1060, 'y': 825, 'fn': '40data/photo_object_02D53783700_20230303_15_47_57.043872_Newfocus_15m_0649.np', 'label': 'gridTag22'}, {'x': 1075, 'y': 825, 'fn': '40data/photo_object_02D53783700_20230303_15_47_57.043872_Newfocus_15m_0649.np', 'label': 'gridTag23'}, {'x': 1090, 'y': 825, 'fn': '40data/photo_object_02D53783700_20230303_15_47_57.043872_Newfocus_15m_0649.np', 'label': 'gridTag24'}, {'x': 1105, 'y': 824, 'fn': '40data/photo_object_02D53783700_20230303_15_47_57.043872_Newfocus_15m_0649.np', 'label': 'gridTag25'}, {'x': 1120, 'y': 824, 'fn': '40data/photo_object_02D53783700_20230303_15_47_57.043872_Newfocus_15m_0649.np', 'label': 'gridTag26'}, {'x': 1135, 'y': 824, 'fn': '40data/photo_object_02D53783700_20230303_15_47_57.043872_Newfocus_15m_0649.np', 'label': 'gridTag27'}, {'x': 1150, 'y': 823, 'fn': '40data/photo_object_02D53783700_20230303_15_47_57.043872_Newfocus_15m_0649.np', 'label': 'gridTag28'}, {'x': 1060, 'y': 841, 'fn': '40data/photo_object_02D53783700_20230303_15_47_57.043872_Newfocus_15m_0649.np', 'label': 'gridTag29'}, {'x': 1090, 'y': 840, 'fn': '40data/photo_object_02D53783700_20230303_15_47_57.043872_Newfocus_15m_0649.np', 'label': 'gridTag30'}, {'x': 1120, 'y': 839, 'fn': '40data/photo_object_02D53783700_20230303_15_47_57.043872_Newfocus_15m_0649.np', 'label': 'gridTag31'}, {'x': 1151, 'y': 839, 'fn': '40data/photo_object_02D53783700_20230303_15_47_57.043872_Newfocus_15m_0649.np', 'label': 'gridTag32'}, {'x': 1060, 'y': 856, 'fn': '40data/photo_object_02D53783700_20230303_15_47_57.043872_Newfocus_15m_0649.np', 'label': 'gridTag33'}, {'x': 1075, 'y': 856, 'fn': '40data/photo_object_02D53783700_20230303_15_47_57.043872_Newfocus_15m_0649.np', 'label': 'gridTag34'}, {'x': 1090, 'y': 855, 'fn': '40data/photo_object_02D53783700_20230303_15_47_57.043872_Newfocus_15m_0649.np', 'label': 'gridTag35'}, {'x': 1106, 'y': 855, 'fn': '40data/photo_object_02D53783700_20230303_15_47_57.043872_Newfocus_15m_0649.np', 'label': 'gridTag36'}, {'x': 1121, 'y': 855, 'fn': '40data/photo_object_02D53783700_20230303_15_47_57.043872_Newfocus_15m_0649.np', 'label': 'gridTag37'}, {'x': 1136, 'y': 854, 'fn': '40data/photo_object_02D53783700_20230303_15_47_57.043872_Newfocus_15m_0649.np', 'label': 'gridTag38'}, {'x': 1151, 'y': 854, 'fn': '40data/photo_object_02D53783700_20230303_15_47_57.043872_Newfocus_15m_0649.np', 'label': 'gridTag39'}], '655': [{'x': 1039, 'y': 757, 'fn': '40data/photo_object_02D53783700_20230303_15_48_06.084008_Newfocus_15m_0655.np', 'label': 'gridTag0'}, {'x': 1054, 'y': 757, 'fn': '40data/photo_object_02D53783700_20230303_15_48_06.084008_Newfocus_15m_0655.np', 'label': 'gridTag1'}, {'x': 1069, 'y': 756, 'fn': '40data/photo_object_02D53783700_20230303_15_48_06.084008_Newfocus_15m_0655.np', 'label': 'gridTag2'}, {'x': 1084, 'y': 756, 'fn': '40data/photo_object_02D53783700_20230303_15_48_06.084008_Newfocus_15m_0655.np', 'label': 'gridTag3'}, {'x': 1099, 'y': 756, 'fn': '40data/photo_object_02D53783700_20230303_15_48_06.084008_Newfocus_15m_0655.np', 'label': 'gridTag4'}, {'x': 1114, 'y': 755, 'fn': '40data/photo_object_02D53783700_20230303_15_48_06.084008_Newfocus_15m_0655.np', 'label': 'gridTag5'}, {'x': 1129, 'y': 755, 'fn': '40data/photo_object_02D53783700_20230303_15_48_06.084008_Newfocus_15m_0655.np', 'label': 'gridTag6'}, {'x': 1039, 'y': 772, 'fn': '40data/photo_object_02D53783700_20230303_15_48_06.084008_Newfocus_15m_0655.np', 'label': 'gridTag7'}, {'x': 1069, 'y': 772, 'fn': '40data/photo_object_02D53783700_20230303_15_48_06.084008_Newfocus_15m_0655.np', 'label': 'gridTag8'}, {'x': 1099, 'y': 771, 'fn': '40data/photo_object_02D53783700_20230303_15_48_06.084008_Newfocus_15m_0655.np', 'label': 'gridTag9'}, {'x': 1129, 'y': 770, 'fn': '40data/photo_object_02D53783700_20230303_15_48_06.084008_Newfocus_15m_0655.np', 'label': 'gridTag10'}, {'x': 1039, 'y': 788, 'fn': '40data/photo_object_02D53783700_20230303_15_48_06.084008_Newfocus_15m_0655.np', 'label': 'gridTag11'}, {'x': 1054, 'y': 787, 'fn': '40data/photo_object_02D53783700_20230303_15_48_06.084008_Newfocus_15m_0655.np', 'label': 'gridTag12'}, {'x': 1069, 'y': 787, 'fn': '40data/photo_object_02D53783700_20230303_15_48_06.084008_Newfocus_15m_0655.np', 'label': 'gridTag13'}, {'x': 1084, 'y': 787, 'fn': '40data/photo_object_02D53783700_20230303_15_48_06.084008_Newfocus_15m_0655.np', 'label': 'gridTag14'}, {'x': 1099, 'y': 786, 'fn': '40data/photo_object_02D53783700_20230303_15_48_06.084008_Newfocus_15m_0655.np', 'label': 'gridTag15'}, {'x': 1114, 'y': 786, 'fn': '40data/photo_object_02D53783700_20230303_15_48_06.084008_Newfocus_15m_0655.np', 'label': 'gridTag16'}, {'x': 1129, 'y': 786, 'fn': '40data/photo_object_02D53783700_20230303_15_48_06.084008_Newfocus_15m_0655.np', 'label': 'gridTag17'}, {'x': 1039, 'y': 803, 'fn': '40data/photo_object_02D53783700_20230303_15_48_06.084008_Newfocus_15m_0655.np', 'label': 'gridTag18'}, {'x': 1069, 'y': 802, 'fn': '40data/photo_object_02D53783700_20230303_15_48_06.084008_Newfocus_15m_0655.np', 'label': 'gridTag19'}, {'x': 1099, 'y': 802, 'fn': '40data/photo_object_02D53783700_20230303_15_48_06.084008_Newfocus_15m_0655.np', 'label': 'gridTag20'}, {'x': 1130, 'y': 801, 'fn': '40data/photo_object_02D53783700_20230303_15_48_06.084008_Newfocus_15m_0655.np', 'label': 'gridTag21'}, {'x': 1039, 'y': 818, 'fn': '40data/photo_object_02D53783700_20230303_15_48_06.084008_Newfocus_15m_0655.np', 'label': 'gridTag22'}, {'x': 1054, 'y': 818, 'fn': '40data/photo_object_02D53783700_20230303_15_48_06.084008_Newfocus_15m_0655.np', 'label': 'gridTag23'}, {'x': 1069, 'y': 818, 'fn': '40data/photo_object_02D53783700_20230303_15_48_06.084008_Newfocus_15m_0655.np', 'label': 'gridTag24'}, {'x': 1084, 'y': 817, 'fn': '40data/photo_object_02D53783700_20230303_15_48_06.084008_Newfocus_15m_0655.np', 'label': 'gridTag25'}, {'x': 1099, 'y': 817, 'fn': '40data/photo_object_02D53783700_20230303_15_48_06.084008_Newfocus_15m_0655.np', 'label': 'gridTag26'}, {'x': 1115, 'y': 817, 'fn': '40data/photo_object_02D53783700_20230303_15_48_06.084008_Newfocus_15m_0655.np', 'label': 'gridTag27'}, {'x': 1130, 'y': 816, 'fn': '40data/photo_object_02D53783700_20230303_15_48_06.084008_Newfocus_15m_0655.np', 'label': 'gridTag28'}, {'x': 1039, 'y': 834, 'fn': '40data/photo_object_02D53783700_20230303_15_48_06.084008_Newfocus_15m_0655.np', 'label': 'gridTag29'}, {'x': 1069, 'y': 833, 'fn': '40data/photo_object_02D53783700_20230303_15_48_06.084008_Newfocus_15m_0655.np', 'label': 'gridTag30'}, {'x': 1100, 'y': 832, 'fn': '40data/photo_object_02D53783700_20230303_15_48_06.084008_Newfocus_15m_0655.np', 'label': 'gridTag31'}, {'x': 1130, 'y': 832, 'fn': '40data/photo_object_02D53783700_20230303_15_48_06.084008_Newfocus_15m_0655.np', 'label': 'gridTag32'}, {'x': 1039, 'y': 849, 'fn': '40data/photo_object_02D53783700_20230303_15_48_06.084008_Newfocus_15m_0655.np', 'label': 'gridTag33'}, {'x': 1054, 'y': 849, 'fn': '40data/photo_object_02D53783700_20230303_15_48_06.084008_Newfocus_15m_0655.np', 'label': 'gridTag34'}, {'x': 1069, 'y': 848, 'fn': '40data/photo_object_02D53783700_20230303_15_48_06.084008_Newfocus_15m_0655.np', 'label': 'gridTag35'}, {'x': 1084, 'y': 848, 'fn': '40data/photo_object_02D53783700_20230303_15_48_06.084008_Newfocus_15m_0655.np', 'label': 'gridTag36'}, {'x': 1100, 'y': 848, 'fn': '40data/photo_object_02D53783700_20230303_15_48_06.084008_Newfocus_15m_0655.np', 'label': 'gridTag37'}, {'x': 1115, 'y': 847, 'fn': '40data/photo_object_02D53783700_20230303_15_48_06.084008_Newfocus_15m_0655.np', 'label': 'gridTag38'}, {'x': 1130, 'y': 847, 'fn': '40data/photo_object_02D53783700_20230303_15_48_06.084008_Newfocus_15m_0655.np', 'label': 'gridTag39'}], '657': [{'x': 1051, 'y': 770, 'fn': '40data/photo_object_02D53783700_20230303_15_48_09.101943_Newfocus_15m_0657.np', 'label': 'gridTag0'}, {'x': 1066, 'y': 768, 'fn': '40data/photo_object_02D53783700_20230303_15_48_09.101943_Newfocus_15m_0657.np', 'label': 'gridTag1'}, {'x': 1081, 'y': 765, 'fn': '40data/photo_object_02D53783700_20230303_15_48_09.101943_Newfocus_15m_0657.np', 'label': 'gridTag2'}, {'x': 1096, 'y': 763, 'fn': '40data/photo_object_02D53783700_20230303_15_48_09.101943_Newfocus_15m_0657.np', 'label': 'gridTag3'}, {'x': 1110, 'y': 761, 'fn': '40data/photo_object_02D53783700_20230303_15_48_09.101943_Newfocus_15m_0657.np', 'label': 'gridTag4'}, {'x': 1125, 'y': 758, 'fn': '40data/photo_object_02D53783700_20230303_15_48_09.101943_Newfocus_15m_0657.np', 'label': 'gridTag5'}, {'x': 1140, 'y': 756, 'fn': '40data/photo_object_02D53783700_20230303_15_48_09.101943_Newfocus_15m_0657.np', 'label': 'gridTag6'}, {'x': 1053, 'y': 785, 'fn': '40data/photo_object_02D53783700_20230303_15_48_09.101943_Newfocus_15m_0657.np', 'label': 'gridTag7'}, {'x': 1083, 'y': 781, 'fn': '40data/photo_object_02D53783700_20230303_15_48_09.101943_Newfocus_15m_0657.np', 'label': 'gridTag8'}, {'x': 1112, 'y': 776, 'fn': '40data/photo_object_02D53783700_20230303_15_48_09.101943_Newfocus_15m_0657.np', 'label': 'gridTag9'}, {'x': 1142, 'y': 771, 'fn': '40data/photo_object_02D53783700_20230303_15_48_09.101943_Newfocus_15m_0657.np', 'label': 'gridTag10'}, {'x': 1055, 'y': 801, 'fn': '40data/photo_object_02D53783700_20230303_15_48_09.101943_Newfocus_15m_0657.np', 'label': 'gridTag11'}, {'x': 1070, 'y': 798, 'fn': '40data/photo_object_02D53783700_20230303_15_48_09.101943_Newfocus_15m_0657.np', 'label': 'gridTag12'}, {'x': 1085, 'y': 796, 'fn': '40data/photo_object_02D53783700_20230303_15_48_09.101943_Newfocus_15m_0657.np', 'label': 'gridTag13'}, {'x': 1100, 'y': 794, 'fn': '40data/photo_object_02D53783700_20230303_15_48_09.101943_Newfocus_15m_0657.np', 'label': 'gridTag14'}, {'x': 1114, 'y': 791, 'fn': '40data/photo_object_02D53783700_20230303_15_48_09.101943_Newfocus_15m_0657.np', 'label': 'gridTag15'}, {'x': 1129, 'y': 789, 'fn': '40data/photo_object_02D53783700_20230303_15_48_09.101943_Newfocus_15m_0657.np', 'label': 'gridTag16'}, {'x': 1144, 'y': 786, 'fn': '40data/photo_object_02D53783700_20230303_15_48_09.101943_Newfocus_15m_0657.np', 'label': 'gridTag17'}, {'x': 1058, 'y': 816, 'fn': '40data/photo_object_02D53783700_20230303_15_48_09.101943_Newfocus_15m_0657.np', 'label': 'gridTag18'}, {'x': 1087, 'y': 811, 'fn': '40data/photo_object_02D53783700_20230303_15_48_09.101943_Newfocus_15m_0657.np', 'label': 'gridTag19'}, {'x': 1116, 'y': 806, 'fn': '40data/photo_object_02D53783700_20230303_15_48_09.101943_Newfocus_15m_0657.np', 'label': 'gridTag20'}, {'x': 1146, 'y': 802, 'fn': '40data/photo_object_02D53783700_20230303_15_48_09.101943_Newfocus_15m_0657.np', 'label': 'gridTag21'}, {'x': 1060, 'y': 831, 'fn': '40data/photo_object_02D53783700_20230303_15_48_09.101943_Newfocus_15m_0657.np', 'label': 'gridTag22'}, {'x': 1074, 'y': 829, 'fn': '40data/photo_object_02D53783700_20230303_15_48_09.101943_Newfocus_15m_0657.np', 'label': 'gridTag23'}, {'x': 1089, 'y': 826, 'fn': '40data/photo_object_02D53783700_20230303_15_48_09.101943_Newfocus_15m_0657.np', 'label': 'gridTag24'}, {'x': 1104, 'y': 824, 'fn': '40data/photo_object_02D53783700_20230303_15_48_09.101943_Newfocus_15m_0657.np', 'label': 'gridTag25'}, {'x': 1119, 'y': 822, 'fn': '40data/photo_object_02D53783700_20230303_15_48_09.101943_Newfocus_15m_0657.np', 'label': 'gridTag26'}, {'x': 1133, 'y': 819, 'fn': '40data/photo_object_02D53783700_20230303_15_48_09.101943_Newfocus_15m_0657.np', 'label': 'gridTag27'}, {'x': 1148, 'y': 817, 'fn': '40data/photo_object_02D53783700_20230303_15_48_09.101943_Newfocus_15m_0657.np', 'label': 'gridTag28'}, {'x': 1062, 'y': 847, 'fn': '40data/photo_object_02D53783700_20230303_15_48_09.101943_Newfocus_15m_0657.np', 'label': 'gridTag29'}, {'x': 1091, 'y': 842, 'fn': '40data/photo_object_02D53783700_20230303_15_48_09.101943_Newfocus_15m_0657.np', 'label': 'gridTag30'}, {'x': 1121, 'y': 837, 'fn': '40data/photo_object_02D53783700_20230303_15_48_09.101943_Newfocus_15m_0657.np', 'label': 'gridTag31'}, {'x': 1150, 'y': 832, 'fn': '40data/photo_object_02D53783700_20230303_15_48_09.101943_Newfocus_15m_0657.np', 'label': 'gridTag32'}, {'x': 1064, 'y': 862, 'fn': '40data/photo_object_02D53783700_20230303_15_48_09.101943_Newfocus_15m_0657.np', 'label': 'gridTag33'}, {'x': 1079, 'y': 860, 'fn': '40data/photo_object_02D53783700_20230303_15_48_09.101943_Newfocus_15m_0657.np', 'label': 'gridTag34'}, {'x': 1093, 'y': 857, 'fn': '40data/photo_object_02D53783700_20230303_15_48_09.101943_Newfocus_15m_0657.np', 'label': 'gridTag35'}, {'x': 1108, 'y': 854, 'fn': '40data/photo_object_02D53783700_20230303_15_48_09.101943_Newfocus_15m_0657.np', 'label': 'gridTag36'}, {'x': 1123, 'y': 852, 'fn': '40data/photo_object_02D53783700_20230303_15_48_09.101943_Newfocus_15m_0657.np', 'label': 'gridTag37'}, {'x': 1137, 'y': 850, 'fn': '40data/photo_object_02D53783700_20230303_15_48_09.101943_Newfocus_15m_0657.np', 'label': 'gridTag38'}, {'x': 1152, 'y': 847, 'fn': '40data/photo_object_02D53783700_20230303_15_48_09.101943_Newfocus_15m_0657.np', 'label': 'gridTag39'}], '659': [{'x': 1030, 'y': 745, 'fn': '40data/photo_object_02D53783700_20230303_15_48_12.125666_Newfocus_15m_0659.np', 'label': 'gridTag0'}, {'x': 1045, 'y': 744, 'fn': '40data/photo_object_02D53783700_20230303_15_48_12.125666_Newfocus_15m_0659.np', 'label': 'gridTag1'}, {'x': 1060, 'y': 744, 'fn': '40data/photo_object_02D53783700_20230303_15_48_12.125666_Newfocus_15m_0659.np', 'label': 'gridTag2'}, {'x': 1075, 'y': 743, 'fn': '40data/photo_object_02D53783700_20230303_15_48_12.125666_Newfocus_15m_0659.np', 'label': 'gridTag3'}, {'x': 1090, 'y': 742, 'fn': '40data/photo_object_02D53783700_20230303_15_48_12.125666_Newfocus_15m_0659.np', 'label': 'gridTag4'}, {'x': 1105, 'y': 742, 'fn': '40data/photo_object_02D53783700_20230303_15_48_12.125666_Newfocus_15m_0659.np', 'label': 'gridTag5'}, {'x': 1120, 'y': 741, 'fn': '40data/photo_object_02D53783700_20230303_15_48_12.125666_Newfocus_15m_0659.np', 'label': 'gridTag6'}, {'x': 1030, 'y': 760, 'fn': '40data/photo_object_02D53783700_20230303_15_48_12.125666_Newfocus_15m_0659.np', 'label': 'gridTag7'}, {'x': 1060, 'y': 759, 'fn': '40data/photo_object_02D53783700_20230303_15_48_12.125666_Newfocus_15m_0659.np', 'label': 'gridTag8'}, {'x': 1090, 'y': 758, 'fn': '40data/photo_object_02D53783700_20230303_15_48_12.125666_Newfocus_15m_0659.np', 'label': 'gridTag9'}, {'x': 1120, 'y': 756, 'fn': '40data/photo_object_02D53783700_20230303_15_48_12.125666_Newfocus_15m_0659.np', 'label': 'gridTag10'}, {'x': 1030, 'y': 776, 'fn': '40data/photo_object_02D53783700_20230303_15_48_12.125666_Newfocus_15m_0659.np', 'label': 'gridTag11'}, {'x': 1045, 'y': 775, 'fn': '40data/photo_object_02D53783700_20230303_15_48_12.125666_Newfocus_15m_0659.np', 'label': 'gridTag12'}, {'x': 1060, 'y': 774, 'fn': '40data/photo_object_02D53783700_20230303_15_48_12.125666_Newfocus_15m_0659.np', 'label': 'gridTag13'}, {'x': 1075, 'y': 774, 'fn': '40data/photo_object_02D53783700_20230303_15_48_12.125666_Newfocus_15m_0659.np', 'label': 'gridTag14'}, {'x': 1090, 'y': 773, 'fn': '40data/photo_object_02D53783700_20230303_15_48_12.125666_Newfocus_15m_0659.np', 'label': 'gridTag15'}, {'x': 1105, 'y': 773, 'fn': '40data/photo_object_02D53783700_20230303_15_48_12.125666_Newfocus_15m_0659.np', 'label': 'gridTag16'}, {'x': 1120, 'y': 772, 'fn': '40data/photo_object_02D53783700_20230303_15_48_12.125666_Newfocus_15m_0659.np', 'label': 'gridTag17'}, {'x': 1030, 'y': 791, 'fn': '40data/photo_object_02D53783700_20230303_15_48_12.125666_Newfocus_15m_0659.np', 'label': 'gridTag18'}, {'x': 1060, 'y': 790, 'fn': '40data/photo_object_02D53783700_20230303_15_48_12.125666_Newfocus_15m_0659.np', 'label': 'gridTag19'}, {'x': 1090, 'y': 789, 'fn': '40data/photo_object_02D53783700_20230303_15_48_12.125666_Newfocus_15m_0659.np', 'label': 'gridTag20'}, {'x': 1120, 'y': 788, 'fn': '40data/photo_object_02D53783700_20230303_15_48_12.125666_Newfocus_15m_0659.np', 'label': 'gridTag21'}, {'x': 1030, 'y': 806, 'fn': '40data/photo_object_02D53783700_20230303_15_48_12.125666_Newfocus_15m_0659.np', 'label': 'gridTag22'}, {'x': 1045, 'y': 806, 'fn': '40data/photo_object_02D53783700_20230303_15_48_12.125666_Newfocus_15m_0659.np', 'label': 'gridTag23'}, {'x': 1060, 'y': 805, 'fn': '40data/photo_object_02D53783700_20230303_15_48_12.125666_Newfocus_15m_0659.np', 'label': 'gridTag24'}, {'x': 1075, 'y': 805, 'fn': '40data/photo_object_02D53783700_20230303_15_48_12.125666_Newfocus_15m_0659.np', 'label': 'gridTag25'}, {'x': 1090, 'y': 804, 'fn': '40data/photo_object_02D53783700_20230303_15_48_12.125666_Newfocus_15m_0659.np', 'label': 'gridTag26'}, {'x': 1106, 'y': 804, 'fn': '40data/photo_object_02D53783700_20230303_15_48_12.125666_Newfocus_15m_0659.np', 'label': 'gridTag27'}, {'x': 1121, 'y': 803, 'fn': '40data/photo_object_02D53783700_20230303_15_48_12.125666_Newfocus_15m_0659.np', 'label': 'gridTag28'}, {'x': 1030, 'y': 822, 'fn': '40data/photo_object_02D53783700_20230303_15_48_12.125666_Newfocus_15m_0659.np', 'label': 'gridTag29'}, {'x': 1060, 'y': 821, 'fn': '40data/photo_object_02D53783700_20230303_15_48_12.125666_Newfocus_15m_0659.np', 'label': 'gridTag30'}, {'x': 1091, 'y': 820, 'fn': '40data/photo_object_02D53783700_20230303_15_48_12.125666_Newfocus_15m_0659.np', 'label': 'gridTag31'}, {'x': 1121, 'y': 818, 'fn': '40data/photo_object_02D53783700_20230303_15_48_12.125666_Newfocus_15m_0659.np', 'label': 'gridTag32'}, {'x': 1030, 'y': 837, 'fn': '40data/photo_object_02D53783700_20230303_15_48_12.125666_Newfocus_15m_0659.np', 'label': 'gridTag33'}, {'x': 1045, 'y': 836, 'fn': '40data/photo_object_02D53783700_20230303_15_48_12.125666_Newfocus_15m_0659.np', 'label': 'gridTag34'}, {'x': 1060, 'y': 836, 'fn': '40data/photo_object_02D53783700_20230303_15_48_12.125666_Newfocus_15m_0659.np', 'label': 'gridTag35'}, {'x': 1076, 'y': 836, 'fn': '40data/photo_object_02D53783700_20230303_15_48_12.125666_Newfocus_15m_0659.np', 'label': 'gridTag36'}, {'x': 1091, 'y': 835, 'fn': '40data/photo_object_02D53783700_20230303_15_48_12.125666_Newfocus_15m_0659.np', 'label': 'gridTag37'}, {'x': 1106, 'y': 834, 'fn': '40data/photo_object_02D53783700_20230303_15_48_12.125666_Newfocus_15m_0659.np', 'label': 'gridTag38'}, {'x': 1121, 'y': 834, 'fn': '40data/photo_object_02D53783700_20230303_15_48_12.125666_Newfocus_15m_0659.np', 'label': 'gridTag39'}], '661': [{'x': 1026, 'y': 750, 'fn': '40data/photo_object_02D53783700_20230303_15_48_15.137824_Newfocus_15m_0661.np', 'label': 'gridTag0'}, {'x': 1041, 'y': 748, 'fn': '40data/photo_object_02D53783700_20230303_15_48_15.137824_Newfocus_15m_0661.np', 'label': 'gridTag1'}, {'x': 1056, 'y': 747, 'fn': '40data/photo_object_02D53783700_20230303_15_48_15.137824_Newfocus_15m_0661.np', 'label': 'gridTag2'}, {'x': 1070, 'y': 745, 'fn': '40data/photo_object_02D53783700_20230303_15_48_15.137824_Newfocus_15m_0661.np', 'label': 'gridTag3'}, {'x': 1085, 'y': 743, 'fn': '40data/photo_object_02D53783700_20230303_15_48_15.137824_Newfocus_15m_0661.np', 'label': 'gridTag4'}, {'x': 1100, 'y': 742, 'fn': '40data/photo_object_02D53783700_20230303_15_48_15.137824_Newfocus_15m_0661.np', 'label': 'gridTag5'}, {'x': 1115, 'y': 740, 'fn': '40data/photo_object_02D53783700_20230303_15_48_15.137824_Newfocus_15m_0661.np', 'label': 'gridTag6'}, {'x': 1027, 'y': 765, 'fn': '40data/photo_object_02D53783700_20230303_15_48_15.137824_Newfocus_15m_0661.np', 'label': 'gridTag7'}, {'x': 1057, 'y': 762, 'fn': '40data/photo_object_02D53783700_20230303_15_48_15.137824_Newfocus_15m_0661.np', 'label': 'gridTag8'}, {'x': 1087, 'y': 759, 'fn': '40data/photo_object_02D53783700_20230303_15_48_15.137824_Newfocus_15m_0661.np', 'label': 'gridTag9'}, {'x': 1116, 'y': 755, 'fn': '40data/photo_object_02D53783700_20230303_15_48_15.137824_Newfocus_15m_0661.np', 'label': 'gridTag10'}, {'x': 1029, 'y': 780, 'fn': '40data/photo_object_02D53783700_20230303_15_48_15.137824_Newfocus_15m_0661.np', 'label': 'gridTag11'}, {'x': 1044, 'y': 779, 'fn': '40data/photo_object_02D53783700_20230303_15_48_15.137824_Newfocus_15m_0661.np', 'label': 'gridTag12'}, {'x': 1058, 'y': 777, 'fn': '40data/photo_object_02D53783700_20230303_15_48_15.137824_Newfocus_15m_0661.np', 'label': 'gridTag13'}, {'x': 1073, 'y': 776, 'fn': '40data/photo_object_02D53783700_20230303_15_48_15.137824_Newfocus_15m_0661.np', 'label': 'gridTag14'}, {'x': 1088, 'y': 774, 'fn': '40data/photo_object_02D53783700_20230303_15_48_15.137824_Newfocus_15m_0661.np', 'label': 'gridTag15'}, {'x': 1103, 'y': 772, 'fn': '40data/photo_object_02D53783700_20230303_15_48_15.137824_Newfocus_15m_0661.np', 'label': 'gridTag16'}, {'x': 1118, 'y': 771, 'fn': '40data/photo_object_02D53783700_20230303_15_48_15.137824_Newfocus_15m_0661.np', 'label': 'gridTag17'}, {'x': 1030, 'y': 796, 'fn': '40data/photo_object_02D53783700_20230303_15_48_15.137824_Newfocus_15m_0661.np', 'label': 'gridTag18'}, {'x': 1060, 'y': 792, 'fn': '40data/photo_object_02D53783700_20230303_15_48_15.137824_Newfocus_15m_0661.np', 'label': 'gridTag19'}, {'x': 1090, 'y': 789, 'fn': '40data/photo_object_02D53783700_20230303_15_48_15.137824_Newfocus_15m_0661.np', 'label': 'gridTag20'}, {'x': 1120, 'y': 786, 'fn': '40data/photo_object_02D53783700_20230303_15_48_15.137824_Newfocus_15m_0661.np', 'label': 'gridTag21'}, {'x': 1031, 'y': 811, 'fn': '40data/photo_object_02D53783700_20230303_15_48_15.137824_Newfocus_15m_0661.np', 'label': 'gridTag22'}, {'x': 1046, 'y': 809, 'fn': '40data/photo_object_02D53783700_20230303_15_48_15.137824_Newfocus_15m_0661.np', 'label': 'gridTag23'}, {'x': 1061, 'y': 808, 'fn': '40data/photo_object_02D53783700_20230303_15_48_15.137824_Newfocus_15m_0661.np', 'label': 'gridTag24'}, {'x': 1076, 'y': 806, 'fn': '40data/photo_object_02D53783700_20230303_15_48_15.137824_Newfocus_15m_0661.np', 'label': 'gridTag25'}, {'x': 1091, 'y': 804, 'fn': '40data/photo_object_02D53783700_20230303_15_48_15.137824_Newfocus_15m_0661.np', 'label': 'gridTag26'}, {'x': 1106, 'y': 803, 'fn': '40data/photo_object_02D53783700_20230303_15_48_15.137824_Newfocus_15m_0661.np', 'label': 'gridTag27'}, {'x': 1121, 'y': 801, 'fn': '40data/photo_object_02D53783700_20230303_15_48_15.137824_Newfocus_15m_0661.np', 'label': 'gridTag28'}, {'x': 1033, 'y': 826, 'fn': '40data/photo_object_02D53783700_20230303_15_48_15.137824_Newfocus_15m_0661.np', 'label': 'gridTag29'}, {'x': 1063, 'y': 823, 'fn': '40data/photo_object_02D53783700_20230303_15_48_15.137824_Newfocus_15m_0661.np', 'label': 'gridTag30'}, {'x': 1093, 'y': 820, 'fn': '40data/photo_object_02D53783700_20230303_15_48_15.137824_Newfocus_15m_0661.np', 'label': 'gridTag31'}, {'x': 1122, 'y': 817, 'fn': '40data/photo_object_02D53783700_20230303_15_48_15.137824_Newfocus_15m_0661.np', 'label': 'gridTag32'}, {'x': 1034, 'y': 841, 'fn': '40data/photo_object_02D53783700_20230303_15_48_15.137824_Newfocus_15m_0661.np', 'label': 'gridTag33'}, {'x': 1049, 'y': 840, 'fn': '40data/photo_object_02D53783700_20230303_15_48_15.137824_Newfocus_15m_0661.np', 'label': 'gridTag34'}, {'x': 1064, 'y': 838, 'fn': '40data/photo_object_02D53783700_20230303_15_48_15.137824_Newfocus_15m_0661.np', 'label': 'gridTag35'}, {'x': 1079, 'y': 836, 'fn': '40data/photo_object_02D53783700_20230303_15_48_15.137824_Newfocus_15m_0661.np', 'label': 'gridTag36'}, {'x': 1094, 'y': 835, 'fn': '40data/photo_object_02D53783700_20230303_15_48_15.137824_Newfocus_15m_0661.np', 'label': 'gridTag37'}, {'x': 1109, 'y': 834, 'fn': '40data/photo_object_02D53783700_20230303_15_48_15.137824_Newfocus_15m_0661.np', 'label': 'gridTag38'}, {'x': 1124, 'y': 832, 'fn': '40data/photo_object_02D53783700_20230303_15_48_15.137824_Newfocus_15m_0661.np', 'label': 'gridTag39'}], '669': [{'x': 1022, 'y': 753, 'fn': '40data/photo_object_02D53783700_20230303_15_48_27.184611_Newfocus_15m_0669.np', 'label': 'gridTag0'}, {'x': 1037, 'y': 752, 'fn': '40data/photo_object_02D53783700_20230303_15_48_27.184611_Newfocus_15m_0669.np', 'label': 'gridTag1'}, {'x': 1052, 'y': 752, 'fn': '40data/photo_object_02D53783700_20230303_15_48_27.184611_Newfocus_15m_0669.np', 'label': 'gridTag2'}, {'x': 1068, 'y': 751, 'fn': '40data/photo_object_02D53783700_20230303_15_48_27.184611_Newfocus_15m_0669.np', 'label': 'gridTag3'}, {'x': 1083, 'y': 750, 'fn': '40data/photo_object_02D53783700_20230303_15_48_27.184611_Newfocus_15m_0669.np', 'label': 'gridTag4'}, {'x': 1098, 'y': 750, 'fn': '40data/photo_object_02D53783700_20230303_15_48_27.184611_Newfocus_15m_0669.np', 'label': 'gridTag5'}, {'x': 1113, 'y': 749, 'fn': '40data/photo_object_02D53783700_20230303_15_48_27.184611_Newfocus_15m_0669.np', 'label': 'gridTag6'}, {'x': 1023, 'y': 768, 'fn': '40data/photo_object_02D53783700_20230303_15_48_27.184611_Newfocus_15m_0669.np', 'label': 'gridTag7'}, {'x': 1053, 'y': 767, 'fn': '40data/photo_object_02D53783700_20230303_15_48_27.184611_Newfocus_15m_0669.np', 'label': 'gridTag8'}, {'x': 1084, 'y': 766, 'fn': '40data/photo_object_02D53783700_20230303_15_48_27.184611_Newfocus_15m_0669.np', 'label': 'gridTag9'}, {'x': 1114, 'y': 764, 'fn': '40data/photo_object_02D53783700_20230303_15_48_27.184611_Newfocus_15m_0669.np', 'label': 'gridTag10'}, {'x': 1024, 'y': 784, 'fn': '40data/photo_object_02D53783700_20230303_15_48_27.184611_Newfocus_15m_0669.np', 'label': 'gridTag11'}, {'x': 1039, 'y': 783, 'fn': '40data/photo_object_02D53783700_20230303_15_48_27.184611_Newfocus_15m_0669.np', 'label': 'gridTag12'}, {'x': 1054, 'y': 782, 'fn': '40data/photo_object_02D53783700_20230303_15_48_27.184611_Newfocus_15m_0669.np', 'label': 'gridTag13'}, {'x': 1070, 'y': 782, 'fn': '40data/photo_object_02D53783700_20230303_15_48_27.184611_Newfocus_15m_0669.np', 'label': 'gridTag14'}, {'x': 1085, 'y': 781, 'fn': '40data/photo_object_02D53783700_20230303_15_48_27.184611_Newfocus_15m_0669.np', 'label': 'gridTag15'}, {'x': 1100, 'y': 780, 'fn': '40data/photo_object_02D53783700_20230303_15_48_27.184611_Newfocus_15m_0669.np', 'label': 'gridTag16'}, {'x': 1115, 'y': 780, 'fn': '40data/photo_object_02D53783700_20230303_15_48_27.184611_Newfocus_15m_0669.np', 'label': 'gridTag17'}, {'x': 1024, 'y': 799, 'fn': '40data/photo_object_02D53783700_20230303_15_48_27.184611_Newfocus_15m_0669.np', 'label': 'gridTag18'}, {'x': 1055, 'y': 798, 'fn': '40data/photo_object_02D53783700_20230303_15_48_27.184611_Newfocus_15m_0669.np', 'label': 'gridTag19'}, {'x': 1086, 'y': 796, 'fn': '40data/photo_object_02D53783700_20230303_15_48_27.184611_Newfocus_15m_0669.np', 'label': 'gridTag20'}, {'x': 1116, 'y': 795, 'fn': '40data/photo_object_02D53783700_20230303_15_48_27.184611_Newfocus_15m_0669.np', 'label': 'gridTag21'}, {'x': 1025, 'y': 814, 'fn': '40data/photo_object_02D53783700_20230303_15_48_27.184611_Newfocus_15m_0669.np', 'label': 'gridTag22'}, {'x': 1041, 'y': 814, 'fn': '40data/photo_object_02D53783700_20230303_15_48_27.184611_Newfocus_15m_0669.np', 'label': 'gridTag23'}, {'x': 1056, 'y': 813, 'fn': '40data/photo_object_02D53783700_20230303_15_48_27.184611_Newfocus_15m_0669.np', 'label': 'gridTag24'}, {'x': 1072, 'y': 812, 'fn': '40data/photo_object_02D53783700_20230303_15_48_27.184611_Newfocus_15m_0669.np', 'label': 'gridTag25'}, {'x': 1087, 'y': 812, 'fn': '40data/photo_object_02D53783700_20230303_15_48_27.184611_Newfocus_15m_0669.np', 'label': 'gridTag26'}, {'x': 1102, 'y': 811, 'fn': '40data/photo_object_02D53783700_20230303_15_48_27.184611_Newfocus_15m_0669.np', 'label': 'gridTag27'}, {'x': 1118, 'y': 810, 'fn': '40data/photo_object_02D53783700_20230303_15_48_27.184611_Newfocus_15m_0669.np', 'label': 'gridTag28'}, {'x': 1026, 'y': 830, 'fn': '40data/photo_object_02D53783700_20230303_15_48_27.184611_Newfocus_15m_0669.np', 'label': 'gridTag29'}, {'x': 1057, 'y': 828, 'fn': '40data/photo_object_02D53783700_20230303_15_48_27.184611_Newfocus_15m_0669.np', 'label': 'gridTag30'}, {'x': 1088, 'y': 827, 'fn': '40data/photo_object_02D53783700_20230303_15_48_27.184611_Newfocus_15m_0669.np', 'label': 'gridTag31'}, {'x': 1119, 'y': 826, 'fn': '40data/photo_object_02D53783700_20230303_15_48_27.184611_Newfocus_15m_0669.np', 'label': 'gridTag32'}, {'x': 1027, 'y': 845, 'fn': '40data/photo_object_02D53783700_20230303_15_48_27.184611_Newfocus_15m_0669.np', 'label': 'gridTag33'}, {'x': 1042, 'y': 844, 'fn': '40data/photo_object_02D53783700_20230303_15_48_27.184611_Newfocus_15m_0669.np', 'label': 'gridTag34'}, {'x': 1058, 'y': 844, 'fn': '40data/photo_object_02D53783700_20230303_15_48_27.184611_Newfocus_15m_0669.np', 'label': 'gridTag35'}, {'x': 1074, 'y': 843, 'fn': '40data/photo_object_02D53783700_20230303_15_48_27.184611_Newfocus_15m_0669.np', 'label': 'gridTag36'}, {'x': 1089, 'y': 842, 'fn': '40data/photo_object_02D53783700_20230303_15_48_27.184611_Newfocus_15m_0669.np', 'label': 'gridTag37'}, {'x': 1104, 'y': 842, 'fn': '40data/photo_object_02D53783700_20230303_15_48_27.184611_Newfocus_15m_0669.np', 'label': 'gridTag38'}, {'x': 1120, 'y': 841, 'fn': '40data/photo_object_02D53783700_20230303_15_48_27.184611_Newfocus_15m_0669.np', 'label': 'gridTag39'}], '671': [{'x': 1019, 'y': 754, 'fn': '40data/photo_object_02D53783700_20230303_15_48_30.196165_Newfocus_15m_0671.np', 'label': 'gridTag0'}, {'x': 1034, 'y': 754, 'fn': '40data/photo_object_02D53783700_20230303_15_48_30.196165_Newfocus_15m_0671.np', 'label': 'gridTag1'}, {'x': 1050, 'y': 754, 'fn': '40data/photo_object_02D53783700_20230303_15_48_30.196165_Newfocus_15m_0671.np', 'label': 'gridTag2'}, {'x': 1065, 'y': 754, 'fn': '40data/photo_object_02D53783700_20230303_15_48_30.196165_Newfocus_15m_0671.np', 'label': 'gridTag3'}, {'x': 1080, 'y': 754, 'fn': '40data/photo_object_02D53783700_20230303_15_48_30.196165_Newfocus_15m_0671.np', 'label': 'gridTag4'}, {'x': 1096, 'y': 754, 'fn': '40data/photo_object_02D53783700_20230303_15_48_30.196165_Newfocus_15m_0671.np', 'label': 'gridTag5'}, {'x': 1111, 'y': 754, 'fn': '40data/photo_object_02D53783700_20230303_15_48_30.196165_Newfocus_15m_0671.np', 'label': 'gridTag6'}, {'x': 1019, 'y': 769, 'fn': '40data/photo_object_02D53783700_20230303_15_48_30.196165_Newfocus_15m_0671.np', 'label': 'gridTag7'}, {'x': 1049, 'y': 769, 'fn': '40data/photo_object_02D53783700_20230303_15_48_30.196165_Newfocus_15m_0671.np', 'label': 'gridTag8'}, {'x': 1080, 'y': 770, 'fn': '40data/photo_object_02D53783700_20230303_15_48_30.196165_Newfocus_15m_0671.np', 'label': 'gridTag9'}, {'x': 1111, 'y': 770, 'fn': '40data/photo_object_02D53783700_20230303_15_48_30.196165_Newfocus_15m_0671.np', 'label': 'gridTag10'}, {'x': 1018, 'y': 784, 'fn': '40data/photo_object_02D53783700_20230303_15_48_30.196165_Newfocus_15m_0671.np', 'label': 'gridTag11'}, {'x': 1034, 'y': 784, 'fn': '40data/photo_object_02D53783700_20230303_15_48_30.196165_Newfocus_15m_0671.np', 'label': 'gridTag12'}, {'x': 1049, 'y': 785, 'fn': '40data/photo_object_02D53783700_20230303_15_48_30.196165_Newfocus_15m_0671.np', 'label': 'gridTag13'}, {'x': 1064, 'y': 785, 'fn': '40data/photo_object_02D53783700_20230303_15_48_30.196165_Newfocus_15m_0671.np', 'label': 'gridTag14'}, {'x': 1080, 'y': 785, 'fn': '40data/photo_object_02D53783700_20230303_15_48_30.196165_Newfocus_15m_0671.np', 'label': 'gridTag15'}, {'x': 1095, 'y': 785, 'fn': '40data/photo_object_02D53783700_20230303_15_48_30.196165_Newfocus_15m_0671.np', 'label': 'gridTag16'}, {'x': 1111, 'y': 785, 'fn': '40data/photo_object_02D53783700_20230303_15_48_30.196165_Newfocus_15m_0671.np', 'label': 'gridTag17'}, {'x': 1018, 'y': 800, 'fn': '40data/photo_object_02D53783700_20230303_15_48_30.196165_Newfocus_15m_0671.np', 'label': 'gridTag18'}, {'x': 1049, 'y': 800, 'fn': '40data/photo_object_02D53783700_20230303_15_48_30.196165_Newfocus_15m_0671.np', 'label': 'gridTag19'}, {'x': 1080, 'y': 800, 'fn': '40data/photo_object_02D53783700_20230303_15_48_30.196165_Newfocus_15m_0671.np', 'label': 'gridTag20'}, {'x': 1110, 'y': 801, 'fn': '40data/photo_object_02D53783700_20230303_15_48_30.196165_Newfocus_15m_0671.np', 'label': 'gridTag21'}, {'x': 1018, 'y': 815, 'fn': '40data/photo_object_02D53783700_20230303_15_48_30.196165_Newfocus_15m_0671.np', 'label': 'gridTag22'}, {'x': 1033, 'y': 815, 'fn': '40data/photo_object_02D53783700_20230303_15_48_30.196165_Newfocus_15m_0671.np', 'label': 'gridTag23'}, {'x': 1049, 'y': 815, 'fn': '40data/photo_object_02D53783700_20230303_15_48_30.196165_Newfocus_15m_0671.np', 'label': 'gridTag24'}, {'x': 1064, 'y': 816, 'fn': '40data/photo_object_02D53783700_20230303_15_48_30.196165_Newfocus_15m_0671.np', 'label': 'gridTag25'}, {'x': 1079, 'y': 816, 'fn': '40data/photo_object_02D53783700_20230303_15_48_30.196165_Newfocus_15m_0671.np', 'label': 'gridTag26'}, {'x': 1095, 'y': 816, 'fn': '40data/photo_object_02D53783700_20230303_15_48_30.196165_Newfocus_15m_0671.np', 'label': 'gridTag27'}, {'x': 1110, 'y': 817, 'fn': '40data/photo_object_02D53783700_20230303_15_48_30.196165_Newfocus_15m_0671.np', 'label': 'gridTag28'}, {'x': 1017, 'y': 830, 'fn': '40data/photo_object_02D53783700_20230303_15_48_30.196165_Newfocus_15m_0671.np', 'label': 'gridTag29'}, {'x': 1048, 'y': 831, 'fn': '40data/photo_object_02D53783700_20230303_15_48_30.196165_Newfocus_15m_0671.np', 'label': 'gridTag30'}, {'x': 1079, 'y': 832, 'fn': '40data/photo_object_02D53783700_20230303_15_48_30.196165_Newfocus_15m_0671.np', 'label': 'gridTag31'}, {'x': 1110, 'y': 832, 'fn': '40data/photo_object_02D53783700_20230303_15_48_30.196165_Newfocus_15m_0671.np', 'label': 'gridTag32'}, {'x': 1017, 'y': 845, 'fn': '40data/photo_object_02D53783700_20230303_15_48_30.196165_Newfocus_15m_0671.np', 'label': 'gridTag33'}, {'x': 1032, 'y': 846, 'fn': '40data/photo_object_02D53783700_20230303_15_48_30.196165_Newfocus_15m_0671.np', 'label': 'gridTag34'}, {'x': 1048, 'y': 846, 'fn': '40data/photo_object_02D53783700_20230303_15_48_30.196165_Newfocus_15m_0671.np', 'label': 'gridTag35'}, {'x': 1064, 'y': 846, 'fn': '40data/photo_object_02D53783700_20230303_15_48_30.196165_Newfocus_15m_0671.np', 'label': 'gridTag36'}, {'x': 1079, 'y': 847, 'fn': '40data/photo_object_02D53783700_20230303_15_48_30.196165_Newfocus_15m_0671.np', 'label': 'gridTag37'}, {'x': 1094, 'y': 848, 'fn': '40data/photo_object_02D53783700_20230303_15_48_30.196165_Newfocus_15m_0671.np', 'label': 'gridTag38'}, {'x': 1110, 'y': 848, 'fn': '40data/photo_object_02D53783700_20230303_15_48_30.196165_Newfocus_15m_0671.np', 'label': 'gridTag39'}]}}\n"
     ]
    }
   ],
   "source": [
    "raw15 = json.load(open(\"leon_bee_photos_3rdMarch2023/bee_track40_15m.json\"))\n",
    "print(raw15)"
   ]
  },
  {
   "cell_type": "code",
   "execution_count": 13,
   "metadata": {},
   "outputs": [],
   "source": [
    "def getTags(rawData, nType):\n",
    "    listData = []\n",
    "    for i in rawData[nType]:\n",
    "        i = dict(i)\n",
    "        d = tagClass(i, nType)\n",
    "        listData.append(d)\n",
    "    return listData"
   ]
  },
  {
   "cell_type": "code",
   "execution_count": 14,
   "metadata": {},
   "outputs": [],
   "source": [
    "l649 = getTags(raw15['0'],'649')\n",
    "l655 = getTags(raw15['0'], '655')\n",
    "l657 = getTags(raw15['0'], '657')\n",
    "l659 = getTags(raw15['0'], '659')\n",
    "l661 = getTags(raw15['0'], '661')\n",
    "l669 = getTags(raw15['0'], '669')\n",
    "l671 = getTags(raw15['0'], '671')\n",
    "trainTags = l649 + l655 + l657 + l659 + l661\n",
    "testTags = l669 + l671"
   ]
  },
  {
   "cell_type": "code",
   "execution_count": 15,
   "metadata": {},
   "outputs": [],
   "source": [
    "bayerFilter = [[\"R\", \"G\"],\n",
    "               [\"G\", \"B\"]]"
   ]
  },
  {
   "cell_type": "code",
   "execution_count": 16,
   "metadata": {},
   "outputs": [],
   "source": [
    "# Find Bayer filter pixel colour for given coordinate\n",
    "def getBayer(x, y):\n",
    "    if x%2 == 0:\n",
    "        if y%2 == 0:\n",
    "            return \"R\" #RGGB\n",
    "        else:\n",
    "            return \"G\" #GBRG\n",
    "    else:\n",
    "        if y%2 == 0:\n",
    "            return \"G\" #GRBG\n",
    "        else:\n",
    "            return \"B\" #BGGR"
   ]
  },
  {
   "cell_type": "code",
   "execution_count": 17,
   "metadata": {},
   "outputs": [],
   "source": [
    "def getTags(l):\n",
    "    for i in range(20):\n",
    "        # tagX, tagX2, tagY, tagY2 =\n",
    "        print(l[i].getTagCoords())\n",
    "    # photo[tagX:tagX2][tagY:tagY2]"
   ]
  },
  {
   "cell_type": "code",
   "execution_count": null,
   "metadata": {},
   "outputs": [],
   "source": [
    "def getSnipPlot(tag):\n",
    "    tagX, tagX2, tagY, tagY2 = tag.getTagCoords()\n",
    "    filename = \"leon_bee_photos_3rdMarch2023/cam5/\"+tag.getFn()\n",
    "    file = np.load(filename, allow_pickle=True)\n",
    "    photo = file['img']\n",
    "    plt.imshow(photo[tagY:tagY2,tagX:tagX2],cmap='gray')\n",
    "    plt.colorbar()\n",
    "    rect = patches.Rectangle((tag.getY()-tagY-3.5, tag.getX()-tagX-3.5), 7, 7, linewidth=1, edgecolor='r', facecolor='none')\n",
    "    plt.gca().add_patch(rect)\n",
    "    print(l655[0].getLabel())\n",
    "    print(tagX, tag.getX(), tagX2)\n",
    "    print(tagY, tag.getY(), tagY2)\n",
    "    plt.show()\n",
    "    return (tag.getY()-tagY, tag.getX()-tagX), photo"
   ]
  },
  {
   "cell_type": "code",
   "execution_count": 54,
   "metadata": {},
   "outputs": [],
   "source": [
    "def getPixels(startY, startX, tag: tagClass, photo):\n",
    "    sx, sy = tag.getTagXY()\n",
    "    ex, ey = tag.getTagXY2()\n",
    "    colourPixels = [[], [], []] # R G B\n",
    "    for px in range(8):\n",
    "        x = sx + startX + px\n",
    "        for py in range(8):\n",
    "            y = sy + startY + py\n",
    "            col = getBayer(y, x)\n",
    "            if col == 'R':\n",
    "                colourPixels[0].append(photo[y, x])\n",
    "            elif col == 'G':\n",
    "                colourPixels[1].append(photo[y, x])\n",
    "            else:\n",
    "                colourPixels[2].append(photo[y, x])\n",
    "    totalSum = sum(colourPixels[0]) + sum(colourPixels[1]) + sum(colourPixels[2])\n",
    "    return sum(colourPixels[0])/totalSum, sum(colourPixels[1])/totalSum"
   ]
  },
  {
   "cell_type": "code",
   "execution_count": 55,
   "metadata": {},
   "outputs": [],
   "source": [
    "xTags = pd.DataFrame(columns=[\"Label\", \"Red\", \"Green\"])\n",
    "for tag in trainTags:\n",
    "    search, photo = getSnipPlot(tag)\n",
    "    redVal, greenVal = getPixels(search[0], search[1], tag, photo)\n",
    "    xTags.loc[len(xTags.index)] = [int(tag.getLabel().removeprefix(\"gridTag\")), redVal, greenVal]\n",
    "\n",
    "xTrain, xTest, yTrain, yTest = train_test_split(xTags[[\"Red\", \"Green\"]], xTags[\"Label\"], test_size=0.2)"
   ]
  },
  {
   "cell_type": "code",
   "execution_count": 56,
   "metadata": {},
   "outputs": [],
   "source": [
    "yTags = pd.DataFrame(columns=[\"Label\", \"Red\", \"Green\"])\n",
    "for tag in testTags:\n",
    "    search, photo = getSnipPlot(tag)\n",
    "    redVal, greenVal = getPixels(search[0], search[1], tag, photo)\n",
    "    yTags.loc[len(yTags.index)] = [int(tag.getLabel().removeprefix(\"gridTag\")), redVal, greenVal]"
   ]
  },
  {
   "cell_type": "code",
   "execution_count": 57,
   "metadata": {},
   "outputs": [],
   "source": [
    "gnb = GaussianNB().fit(xTrain, yTrain)\n",
    "gnbPred = gnb.predict(yTags[[\"Red\", \"Green\"]])"
   ]
  },
  {
   "cell_type": "code",
   "execution_count": 58,
   "metadata": {},
   "outputs": [],
   "source": [
    "clf = svm.SVC().fit(xTrain, yTrain)\n",
    "svmPred = clf.predict(yTags[[\"Red\", \"Green\"]])"
   ]
  },
  {
   "cell_type": "code",
   "execution_count": null,
   "metadata": {},
   "outputs": [],
   "source": []
  },
  {
   "cell_type": "code",
   "execution_count": 59,
   "metadata": {},
   "outputs": [],
   "source": [
    "# mlp = MLPClassifier(solver='lbfgs', hidden_layer_sizes=(5, 2), random_state=1).fit(xTrain, yTrain)\n",
    "# mlpPred = mlp.predict(yTags[[\"Red\", \"Green\"]])"
   ]
  },
  {
   "cell_type": "code",
   "execution_count": 63,
   "metadata": {},
   "outputs": [],
   "source": [
    "from sklearn.metrics import accuracy_score, f1_score, precision_score, recall_score, mean_squared_error\n",
    "def scores(modelPred, name):\n",
    "    print(name)\n",
    "    print(\"Accuracy: \", accuracy_score(yTags[\"Label\"], modelPred))\n",
    "    print(\"F1: \", f1_score(yTags[\"Label\"], modelPred, average='macro'))\n",
    "    print(\"Precision: \", precision_score(yTags[\"Label\"], modelPred, average='macro', zero_division=np.nan))\n",
    "    print(\"Recall: \", recall_score(yTags[\"Label\"], modelPred, average='macro'))\n",
    "    print(\"MSE: \", mean_squared_error(yTags[\"Label\"], modelPred), \"\\n\")"
   ]
  },
  {
   "cell_type": "code",
   "execution_count": 64,
   "metadata": {},
   "outputs": [
    {
     "name": "stdout",
     "output_type": "stream",
     "text": [
      "GNB\n",
      "Accuracy:  0.2875\n",
      "F1:  0.26476190476190475\n",
      "Precision:  0.3326190476190476\n",
      "Recall:  0.2875\n",
      "MSE:  151.4875 \n",
      "\n",
      "SVM\n",
      "Accuracy:  0.175\n",
      "F1:  0.129396645021645\n",
      "Precision:  0.2689373897707231\n",
      "Recall:  0.175\n",
      "MSE:  179.5 \n",
      "\n"
     ]
    }
   ],
   "source": [
    "scores(gnbPred, \"GNB\")\n",
    "scores(svmPred, \"SVM\")\n",
    "# scores(mlpPred, \"MLP\")"
   ]
  },
  {
   "cell_type": "code",
   "execution_count": 62,
   "metadata": {},
   "outputs": [],
   "source": [
    "# average colours from all images - normalise\n",
    "# R/(R+G+B) G/(R+G+B)\n",
    "# train model on colours & labels\n",
    "# test model to classfiy other image labels\n",
    "\n",
    "# maybe remove background mesh\n",
    "# func pixel coords generated to show brightness\n",
    "# psf tagxy brightness pf col, bg of col, pixel ->> pred cixel col -> SSE\n",
    "# brightness for each col -> then loop all pixels then predict pixels -> SSE = func - true picel val"
   ]
  }
 ],
 "metadata": {
  "kernelspec": {
   "display_name": "Python 3",
   "language": "python",
   "name": "python3"
  },
  "language_info": {
   "codemirror_mode": {
    "name": "ipython",
    "version": 3
   },
   "file_extension": ".py",
   "mimetype": "text/x-python",
   "name": "python",
   "nbconvert_exporter": "python",
   "pygments_lexer": "ipython3",
   "version": "3.11.9"
  }
 },
 "nbformat": 4,
 "nbformat_minor": 2
}
